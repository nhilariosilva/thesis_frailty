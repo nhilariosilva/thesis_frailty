{
 "cells": [
  {
   "cell_type": "code",
   "execution_count": null,
   "id": "cc7b393a",
   "metadata": {},
   "outputs": [
    {
     "name": "stderr",
     "output_type": "stream",
     "text": [
      "2025-10-14 18:19:12.809319: E external/local_xla/xla/stream_executor/cuda/cuda_fft.cc:467] Unable to register cuFFT factory: Attempting to register factory for plugin cuFFT when one has already been registered\n",
      "WARNING: All log messages before absl::InitializeLog() is called are written to STDERR\n",
      "E0000 00:00:1760476753.002131 1261837 cuda_dnn.cc:8579] Unable to register cuDNN factory: Attempting to register factory for plugin cuDNN when one has already been registered\n",
      "E0000 00:00:1760476753.036359 1261837 cuda_blas.cc:1407] Unable to register cuBLAS factory: Attempting to register factory for plugin cuBLAS when one has already been registered\n",
      "W0000 00:00:1760476753.344115 1261837 computation_placer.cc:177] computation placer already registered. Please check linkage and avoid linking the same target more than once.\n",
      "W0000 00:00:1760476753.344148 1261837 computation_placer.cc:177] computation placer already registered. Please check linkage and avoid linking the same target more than once.\n",
      "W0000 00:00:1760476753.344151 1261837 computation_placer.cc:177] computation placer already registered. Please check linkage and avoid linking the same target more than once.\n",
      "W0000 00:00:1760476753.344154 1261837 computation_placer.cc:177] computation placer already registered. Please check linkage and avoid linking the same target more than once.\n",
      "2025-10-14 18:19:13.393496: I tensorflow/core/platform/cpu_feature_guard.cc:210] This TensorFlow binary is optimized to use available CPU instructions in performance-critical operations.\n",
      "To enable the following instructions: AVX2 FMA, in other operations, rebuild TensorFlow with the appropriate compiler flags.\n",
      "2025-10-14 18:19:18.163141: E external/local_xla/xla/stream_executor/cuda/cuda_platform.cc:51] failed call to cuInit: INTERNAL: CUDA error: Failed call to cuInit: CUDA_ERROR_NO_DEVICE: no CUDA-capable device is detected\n",
      "2025-10-14 18:19:18.163170: I external/local_xla/xla/stream_executor/cuda/cuda_diagnostics.cc:167] env: CUDA_VISIBLE_DEVICES=\"-1\"\n",
      "2025-10-14 18:19:18.163185: I external/local_xla/xla/stream_executor/cuda/cuda_diagnostics.cc:170] CUDA_VISIBLE_DEVICES is set to -1 - this hides all GPUs from CUDA\n",
      "2025-10-14 18:19:18.163191: I external/local_xla/xla/stream_executor/cuda/cuda_diagnostics.cc:178] verbose logging is disabled. Rerun with verbose logging (usually --v=1 or --vmodule=cuda_diagnostics=1) to get more diagnostic output from this module\n",
      "2025-10-14 18:19:18.163196: I external/local_xla/xla/stream_executor/cuda/cuda_diagnostics.cc:183] retrieving CUDA diagnostic information for host: forlorn-muskeg\n",
      "2025-10-14 18:19:18.163199: I external/local_xla/xla/stream_executor/cuda/cuda_diagnostics.cc:190] hostname: forlorn-muskeg\n",
      "2025-10-14 18:19:18.163379: I external/local_xla/xla/stream_executor/cuda/cuda_diagnostics.cc:197] libcuda reported version is: 535.261.3\n",
      "2025-10-14 18:19:18.163402: I external/local_xla/xla/stream_executor/cuda/cuda_diagnostics.cc:201] kernel reported version is: 535.261.3\n",
      "2025-10-14 18:19:18.163406: I external/local_xla/xla/stream_executor/cuda/cuda_diagnostics.cc:291] kernel version seems to match DSO: 535.261.3\n"
     ]
    }
   ],
   "source": [
    "import numpy as np\n",
    "\n",
    "import os\n",
    "os.environ[\"CUDA_VISIBLE_DEVICES\"] = \"-1\"\n",
    "\n",
    "from matplotlib import pyplot as plt\n",
    "import seaborn as sns\n",
    "import plotly.graph_objects as go\n",
    "from plotly.subplots import make_subplots\n",
    "import lifelines\n",
    "\n",
    "import tensorflow as tf\n",
    "from tensorflow import keras\n",
    "import tensorflow_probability as tfp\n",
    "from keras import layers, initializers, optimizers, losses\n",
    "\n",
    "from tensorflow.keras.callbacks import Callback\n",
    "from tqdm.keras import TqdmCallback\n",
    "from tqdm import tqdm\n",
    "\n",
    "config = tf.compat.v1.ConfigProto()\n",
    "config.gpu_options.allow_growth = True\n",
    "sess = tf.compat.v1.Session(config = config)"
   ]
  },
  {
   "cell_type": "markdown",
   "id": "22172881",
   "metadata": {},
   "source": [
    "In order for we to not have to import tensorflow every time we want to test something. Development for the models will be made here and then migrated to the proper .py files.\n"
   ]
  },
  {
   "cell_type": "code",
   "execution_count": 3,
   "id": "85583418",
   "metadata": {},
   "outputs": [],
   "source": [
    "class FrailtyModelNN(keras.models.Model):\n",
    "\n",
    "    def __init__(self, parameters, loglikelihood_loss, neural_network_structure = None, neural_network_call = None, input_dim = None, seed = None):\n",
    "        super().__init__()\n",
    "        self.parameters = parameters\n",
    "        self.loglikelihood_loss = loglikelihood_loss\n",
    "        self.neural_network_structure = neural_network_structure\n",
    "        self.neural_network_call = neural_network_call\n",
    "        self.n_acum_step = tf.Variable(0, dtype = tf.int32, trainable = False)\n",
    "\n",
    "        self.input_dim = input_dim\n",
    "        self.seed = seed\n",
    "\n",
    "        if(input_dim is not None):\n",
    "            self.define_structure(input_dim)\n",
    "    \n",
    "    def define_structure(self, input_dim):\n",
    "        # Goes through the list of parameters for the model and filter them by their classes:\n",
    "        # - \"nn\" will be treated as an output from a given neural network that receives the variables x as input.\n",
    "        # - \"independet\" will be treated an an individual tf.Variable, trainable object. It is still trained in tensorflow, but is constant for all subjects\n",
    "        # - \"fixed\" will be treated as a non-trainable tf.Variable. Basically just a known constant.\n",
    "        # - \"manual\" will be treated as a non-trainable tf.Variable, but its value will be eventually updated manually using user provided functions (useful in cases where closed forms can be obtained)\n",
    "        # - \"dependent\" will be treated simply as a deterministic function of other parameters and will be updated after training\n",
    "\n",
    "        self.nn_pars = []\n",
    "        self.independent_pars = []\n",
    "        self.fixed_pars = []\n",
    "        self.manual_pars = []\n",
    "        for parameter in self.parameters:\n",
    "            par = self.parameters[parameter]\n",
    "            if(par[\"par_type\"] == \"nn\"):\n",
    "                self.nn_pars.append( parameter )\n",
    "            elif(par[\"par_type\"] == \"independent\"):\n",
    "                self.independent_pars.append( parameter )\n",
    "            elif(par[\"par_type\"] == \"fixed\"):\n",
    "                self.fixed_pars.append( parameter )\n",
    "            elif(par[\"par_type\"] == \"manual\"):\n",
    "                self.manual_pars.append( parameter )\n",
    "            else:\n",
    "                raise Exception(\"Invalid parameter {} type: {}\".format(parameter, par[\"par_type\"]))\n",
    "\n",
    "        # If at least one parameter is to be modeled as a neural network output, define its architecture here\n",
    "        if( len(self.nn_pars) > 0 ):\n",
    "            if(self.neural_network_structure is None):\n",
    "                raise Exception(\"Parameters {} defined as 'nn'. Please, provide a structure for their neural network.\".format(self.nn_pars))\n",
    "            # Define the neural network structure based on the user's input\n",
    "            self.neural_network_structure(self, self.seed)\n",
    "\n",
    "        # Dictionary with all parameters that are its individual weights\n",
    "        self.model_variables = {}\n",
    "\n",
    "        # Include variables that do not depend on the variables x, but are still trained by tensorflow\n",
    "        for parameter in self.independent_pars:\n",
    "            par = self.parameters[parameter]\n",
    "\n",
    "            # If shape is None, set it to ()\n",
    "            if(par[\"shape\"] is None):\n",
    "                par[\"shape\"] = ()\n",
    "\n",
    "            raw_init = par[\"link_inv\"]( par[\"init\"] )\n",
    "\n",
    "            # Name for the new, transformed parameter\n",
    "            raw_parameter = \"raw_\" + parameter\n",
    "            self.model_variables[raw_parameter] = self.add_weight(\n",
    "                name = raw_parameter,\n",
    "                shape = par[\"shape\"],\n",
    "                initializer = keras.initializers.Constant( raw_init ),\n",
    "                trainable = True,\n",
    "                dtype = tf.float32\n",
    "            )\n",
    "\n",
    "        # Include variables that are not trained by tensorflow (known, fixed constants or manual trained variables)\n",
    "        for parameter in np.concatenate([self.fixed_pars, self.manual_pars]):\n",
    "            par = self.parameters[parameter]\n",
    "            self.model_variables[parameter] = self.add_weight(\n",
    "                name = parameter,\n",
    "                shape = par[\"shape\"],\n",
    "                initializer = keras.initializers.Constant( par[\"initializer\"] ),\n",
    "                trainable = False,\n",
    "                dtype = tf.float32\n",
    "            )\n",
    "\n",
    "        # Organize trainable variables information, so each variable can get mapped to an index in the self.trainable_variables and its gradients\n",
    "        self.vars_to_index = {}\n",
    "        # Before we build the model, the only variables that appear in here are the ones corresponding to \"independent\" parameters\n",
    "        for i, var in enumerate(self.trainable_variables):\n",
    "            # From the variable path, get its name (raw_<variable>)\n",
    "            var_name = var.path.split(\"/\")[-1]\n",
    "            # Save its corresponding index\n",
    "            self.vars_to_index[var_name] = i\n",
    "\n",
    "        nn_par_index = 0\n",
    "        # We must also include in this list the indices for \"nn\" parameters\n",
    "        for i, parameter in enumerate(self.nn_pars):\n",
    "            par = self.parameters[ parameter ]\n",
    "            if(par[\"shape\"] is None):\n",
    "                par_shape = 1\n",
    "            else:\n",
    "                # The parameter must be at most a 1-dimensional array, whose indices will be saved for future location in the neural network output results\n",
    "                par_shape = par[\"shape\"]\n",
    "            \n",
    "            self.vars_to_index[\"raw_\" + parameter] = tf.constant( np.arange(nn_par_index, nn_par_index+par_shape), dtype = tf.int32 )\n",
    "            nn_par_index += par_shape\n",
    "\n",
    "\n",
    "        # Once the entire structure has been defined, force the model to build all the weights properly\n",
    "        dummy_input = keras.Input(input_dim)\n",
    "        self(dummy_input)\n",
    "\n",
    "\n",
    "        # In the future, it might be interesting to allow the user to specify an optimizer for each single parameter in the model.\n",
    "        # For now, they will specify one for the independent parameters and other for the neural network weights\n",
    "\n",
    "        # Not that the model is built and all the trainable variables instantiated, we define the gradient variables\n",
    "        self.gradient_accumulation_independent_pars = [\n",
    "            tf.Variable(tf.zeros_like(v, dtype = tf.float32), trainable = False) for v in self.trainable_variables[ :len(self.independent_pars) ]\n",
    "        ]\n",
    "\n",
    "        # The gradient values for the neural network component always comes right after the weights for the independent parameters\n",
    "        self.gradient_accumulation_nn = [\n",
    "            tf.Variable(tf.zeros_like(v, dtype = tf.float32), trainable = False) for v in self.trainable_variables[ len(self.independent_pars): ]\n",
    "        ]\n",
    "\n",
    "    def copy(self):\n",
    "        new_model = FrailtyModelNN(parameters = self.parameters,\n",
    "                                   loglikelihood_loss = self.loglikelihood_loss,\n",
    "                                   neural_network_structure = self.neural_network_structure,\n",
    "                                   neural_network_call = self.neural_network_call,\n",
    "                                   input_dim = self.input_dim, seed = self.seed)        \n",
    "        new_model.set_weights( self.get_weights() )\n",
    "        return new_model\n",
    "\n",
    "    def call(self, x_input, training = True):\n",
    "        if(self.neural_network_call is None):\n",
    "            return None\n",
    "        x = self.neural_network_call(self, x_input)\n",
    "        if(training):\n",
    "            return x\n",
    "\n",
    "        return tf.reshape(x, (x.shape[0], x.shape[1], 1, 1))\n",
    "\n",
    "    def get_variable(self, parameter, nn_output = None):\n",
    "        \"\"\"\n",
    "            Once that all variables have been properly defined and mapped, this method uses their proper link functions to transform from\n",
    "            the variables 'raw' state into their proper values used in the likelihood.\n",
    "\n",
    "            If nn_output is passed, we automatically assume that the parameter is an output from the neural network and proceed by taking its\n",
    "            value differently than if it was an independent parameter.\n",
    "        \"\"\"\n",
    "        # Get the raw name for that parameter\n",
    "        raw_parameter = \"raw_\" + parameter\n",
    "        # Filter the desired parameter from the list\n",
    "        par = self.parameters[parameter]\n",
    "\n",
    "        # If nn_output is None, assume the parameter is independent from the data x and get it directly as a transformed weight\n",
    "        if(nn_output is None):            \n",
    "            # Get the transformed parameter from its raw version, considering its proper link function\n",
    "            par_value = par[\"link\"]( self.model_variables[raw_parameter] )\n",
    "            # return self.format_variable( par_value )\n",
    "            return par_value\n",
    "        \n",
    "        # If nn_output is not None, assume the parameter came as a neural network output and return it from its positions in the output\n",
    "        par_value = par[\"link\"]( tf.gather(nn_output, self.vars_to_index[raw_parameter], axis = 1) )\n",
    "        # return self.format_variable( par_value )\n",
    "        return par_value\n",
    "\n",
    "    def train_step(self, data):\n",
    "        \"\"\"\n",
    "            Called by each batch in order to evaluate the loglikelihood and accumulate the parameters gradients using training data.\n",
    "        \"\"\"\n",
    "        x, t, delta = data\n",
    "\n",
    "        self.n_acum_step.assign_add(1)\n",
    "        with tf.GradientTape() as tape:\n",
    "            nn_output = self(x, training = True)\n",
    "            # likelihood_loss = self.loss_func(nn_output = nn_output, t = t, delta = delta)\n",
    "            loss_value = self.loglikelihood_loss(model = self, nn_output = nn_output, t = t, delta = delta)\n",
    "\n",
    "        # The first weights are always destined to the fixed parameters\n",
    "        # The neural network related weights comes after those in the self.trainable_variables object\n",
    "        gradients = tape.gradient(loss_value, self.trainable_variables)\n",
    "\n",
    "        # If the loss does not depend on a specific parameter, its corresponding gradient will be None\n",
    "        # To avoid crash problems in that case, we simply replace None with a zero like gradient, so those weights do not get updated\n",
    "        # It is the user's responsibility to build a loss that depends on all the trainable parameters, but we allow that to happen in this case\n",
    "        # for generality and to avoid unneccessary crashes when testing new models\n",
    "        gradients = [\n",
    "            g if g is not None else tf.zeros_like(v)\n",
    "            for g, v in zip(gradients, self.trainable_variables)\n",
    "        ]\n",
    "\n",
    "        independent_gradients = gradients[ :len(self.independent_pars) ]\n",
    "        nn_gradients = gradients[ len(self.independent_pars): ]\n",
    "\n",
    "        for i in range( len(self.gradient_accumulation_independent_pars) ):\n",
    "            self.gradient_accumulation_independent_pars[i].assign_add( independent_gradients[i] )\n",
    "\n",
    "        for i in range( len(self.gradient_accumulation_nn) ):\n",
    "            self.gradient_accumulation_nn[i].assign_add( nn_gradients[i] )\n",
    "\n",
    "        tf.cond(tf.equal(self.n_acum_step, self.gradient_accumulation_steps), self.apply_accumulated_gradients, lambda: None)\n",
    "\n",
    "        return {\"likelihood_loss\": loss_value}\n",
    "\n",
    "    def test_step(self, data):\n",
    "        x, t, delta = data\n",
    "        nn_output = self(x, training = False)\n",
    "        likelihood_loss = self.loss_func(nn_output = nn_output, t = t, delta = delta)\n",
    "        return {\"likelihood_loss\": likelihood_loss}\n",
    "\n",
    "    def apply_accumulated_gradients(self):\n",
    "        # ----------------------------------- Independent parameters component -----------------------------------\n",
    "        # Apply the accumulated gradients to the trainable variables\n",
    "        self.optimizer_independent_pars.apply_gradients( zip(self.gradient_accumulation_independent_pars, self.trainable_variables[ :len(self.independent_pars) ]) )\n",
    "        # Resets all the cumulated gradients to zero\n",
    "        for i in range(len(self.gradient_accumulation_nn)):\n",
    "            self.gradient_accumulation_independent_pars[i].assign(tf.zeros_like(self.trainable_variables[ :len(self.independent_pars) ][i], dtype = tf.float32))\n",
    "        \n",
    "        # ----------------------------------- Neural network component -----------------------------------\n",
    "        self.optimizer_nn.apply_gradients( zip(self.gradient_accumulation_nn, self.trainable_variables[ len(self.independent_pars): ]) )\n",
    "        # Resets all the cumulated gradients to zero\n",
    "        for i in range(len(self.gradient_accumulation_nn)):\n",
    "            self.gradient_accumulation_nn[i].assign(tf.zeros_like(self.trainable_variables[ len(self.independent_pars): ][i], dtype = tf.float32))\n",
    "\n",
    "        # Reset the gradient accumulation steps counter to zero\n",
    "        self.n_acum_step.assign(0)\n",
    "\n",
    "    def compile_model(self, optimizer_independent_pars, optimizer_nn, run_eagerly):\n",
    "        \"\"\"\n",
    "            Defines the configuration for the model, such as batch size, training mode, early stopping.\n",
    "        \"\"\"\n",
    "        # optimizers.Adam(learning_rate = learning_rate, gradient_accumulation_steps = None),\n",
    "        self.optimizer_independent_pars = optimizer_independent_pars\n",
    "        self.optimizer_nn = optimizer_nn\n",
    "        self.compile(\n",
    "            run_eagerly = run_eagerly\n",
    "        )\n",
    "\n",
    "    def train_model(self, x, t, delta,\n",
    "                    epochs, shuffle,\n",
    "                    validation = False, val_prop = None, x_val = None, t_val = None, delta_val = None,\n",
    "                    optimizer_independent_pars = optimizers.Adam(learning_rate = 0.001),\n",
    "                    optimizer_nn = optimizers.Adam(learning_rate = 0.001),\n",
    "                    train_batch_size = None, val_batch_size = None,\n",
    "                    buffer_size = 4096, gradient_accumulation_steps = None,\n",
    "                    early_stopping = True, early_stopping_min_delta = 0.0, early_stopping_patience = 10, early_stopping_warmup = 0,\n",
    "                    run_eagerly = True, verbose = 1):\n",
    "        \"\"\"\n",
    "            This is the function that start the training.\n",
    "        \"\"\"\n",
    "        self.validation = validation\n",
    "\n",
    "        # Pass the input variables to tensorflow default types\n",
    "        x = tf.cast(x, dtype = tf.float32)\n",
    "        t = tf.cast(t, dtype = tf.float32)\n",
    "        delta = tf.cast(delta, dtype = tf.float32)\n",
    "        \n",
    "        # If input is a vector, transform it into a column\n",
    "        if(len(x.shape) == 1):\n",
    "            x = tf.reshape( x, shape = (len(x), 1) )\n",
    "        if(len(t.shape) == 1):\n",
    "            t = tf.reshape( t, shape = (len(t), 1) )\n",
    "        if(len(delta.shape) == 1):\n",
    "            delta = tf.reshape( delta, shape = (len(delta), 1) )\n",
    "\n",
    "        # Salva os dados originais\n",
    "        self.x = x\n",
    "        self.t = t\n",
    "        self.delta = delta\n",
    "\n",
    "        if(self.validation):\n",
    "            # If all validation data was given\n",
    "            if(x_val is not None and t_val is not None and delta_val is not None):\n",
    "                x_val = tf.cast(x_val, dtype = tf.float32)\n",
    "                t_val = tf.cast(t_val, dtype = tf.float32)\n",
    "                delta_val = tf.cast(delta_val, dtype = tf.float32)\n",
    "\n",
    "                if(len(x_val.shape) == 1):\n",
    "                    x_val = tf.reshape( x_val, shape = (len(x_val), 1) )\n",
    "                if(len(t_val.shape) == 1):\n",
    "                    t_val = tf.reshape( t_val, shape = (len(t_val), 1) )\n",
    "                if(len(delta_val.shape) == 1):\n",
    "                    delta_val = tf.reshape( delta_val, shape = (len(delta_val), 1) )\n",
    "                \n",
    "                self.x_val = x_val\n",
    "                self.t_val = t_val\n",
    "                self.delta_val = delta_val\n",
    "                self.x_train, self.t_train, self.delta_train = self.x, self.t, self.delta\n",
    "            # If validation is desired, but no data was given, select val_prop * 100% observations as validation set\n",
    "            else:\n",
    "                self.indexes_train = np.arange(x.shape[0])\n",
    "                if(shuffle):\n",
    "                    self.indexes_train = tf.random.shuffle( self.indexes_train )\n",
    "                    \n",
    "                x_shuffled = tf.gather( x, self.indexes_train )\n",
    "                t_shuffled = tf.gather( t, self.indexes_train )\n",
    "                delta_shuffled = tf.gather( delta, self.indexes_train )\n",
    "\n",
    "                if(val_prop is None):\n",
    "                    raise Exception(\"Please, provide the size of the validation set (between 0 and 1).\")\n",
    "                # Selects the subsample as validation data\n",
    "                val_size = int(x.shape[0] * val_prop)\n",
    "                self.x_val, self.t_val, self.delta_val = x_shuffled[:val_size], t_shuffled[:val_size], delta_shuffled[:val_size]\n",
    "                self.x_train, self.t_train, self.delta_train = x_shuffled[val_size:], t_shuffled[val_size:], delta_shuffled[val_size:]\n",
    "        else:\n",
    "            # If no validation step should be taken, training data is the same as validation data\n",
    "            self.x_train, self.t_train, self.delta_train = self.x, self.t, self.delta\n",
    "            self.x_val, self.t_val, self.delta_val = self.x, self.t, self.delta\n",
    "        \n",
    "        # Declara os callbacks do modelo\n",
    "        self.callbacks = [ ]\n",
    "        \n",
    "        if(verbose >= 1):\n",
    "            self.callbacks.append( TqdmCallback(verbose = 0, position = 0, leave = True) )\n",
    "        \n",
    "        if(early_stopping):\n",
    "            # Avoids overfitting and speeds training\n",
    "            if(self.validation):\n",
    "                metric = \"val_likelihood_loss\"\n",
    "            else:\n",
    "                metric = \"likelihood_loss\"\n",
    "            es = keras.callbacks.EarlyStopping(monitor = metric,\n",
    "                                               mode = \"min\",\n",
    "                                               start_from_epoch = early_stopping_warmup,\n",
    "                                               min_delta = early_stopping_min_delta,\n",
    "                                               patience = early_stopping_patience,\n",
    "                                               restore_best_weights = True)\n",
    "            self.callbacks.append(es)\n",
    "\n",
    "        # If batch_size is unspecified, set it to be the training size. Note that decreasing the batch size to smaller values, such as 500 for example, has previously lead the\n",
    "        # model to converge too early, leading to a lot of time of investigation. When dealing with neural networks in the statistical models context, we recommend to use a single\n",
    "        # batch in training. Alternatives in the case that the sample is too big might be to consider a \"gradient accumulation\" approach.\n",
    "        self.train_batch_size = train_batch_size\n",
    "        if(self.train_batch_size is None):\n",
    "            self.train_batch_size = self.x_train.shape[0]\n",
    "\n",
    "        self.val_batch_size = val_batch_size\n",
    "        if(self.val_batch_size is None):\n",
    "            self.val_batch_size = self.x_val.shape[0]\n",
    "        \n",
    "        self.gradient_accumulation_steps = gradient_accumulation_steps\n",
    "        if(self.gradient_accumulation_steps is None):\n",
    "            # The number of batches until the actual weights update (we ensure that the weights are updated only once per epoch, even though we might have multiple batches)\n",
    "            self.gradient_accumulation_steps = int(np.ceil( self.x_train.shape[0] / self.train_batch_size ))\n",
    "\n",
    "        self.compile_model(optimizer_independent_pars = optimizer_independent_pars, optimizer_nn = optimizer_nn, run_eagerly = run_eagerly)\n",
    "\n",
    "        # Create the training dataset\n",
    "        self.buffer_size = buffer_size\n",
    "        train_dataset = tf.data.Dataset.from_tensor_slices((self.x_train, self.t_train, self.delta_train))\n",
    "        train_dataset = train_dataset.shuffle(buffer_size = self.buffer_size).batch(self.train_batch_size).prefetch(tf.data.AUTOTUNE)\n",
    "        \n",
    "        val_dataset = None\n",
    "        if(validation):\n",
    "            # Create the validation dataset\n",
    "            val_dataset = tf.data.Dataset.from_tensor_slices((self.x_val, self.t_val, self.delta_val))\n",
    "            val_dataset = val_dataset.batch(self.val_batch_size).prefetch(tf.data.AUTOTUNE)\n",
    "\n",
    "        self.fit(\n",
    "            train_dataset,\n",
    "            validation_data = val_dataset,\n",
    "            epochs = epochs,\n",
    "            verbose = 0,\n",
    "            callbacks = self.callbacks,\n",
    "            batch_size = self.train_batch_size,\n",
    "            shuffle = shuffle\n",
    "        )\n",
    "\n",
    "    def plot_loglikelihood(self, par1, par2, par1_low, par1_high, par2_low, par2_high, n = 1000, colorscale = 'Inferno'):\n",
    "        model_copy = self.copy()\n",
    "        par1_values = tf.linspace(par1_low, par1_high, n)\n",
    "        par2_values = tf.linspace(par2_low, par2_high, n)\n",
    "\n",
    "        # Get the config object for par1 from the dictionary\n",
    "        # and set the model_copy variables as their raw parameters\n",
    "        par1_obj = self.parameters[par1]\n",
    "        raw_par1 = \"raw_\" + par1\n",
    "        raw_par1_values = par1_obj[\"link_inv\"]( par1_values )\n",
    "        par2_obj = self.parameters[par2]\n",
    "        raw_par2 = \"raw_\" + par2\n",
    "        raw_par2_values = par2_obj[\"link_inv\"]( par2_values )\n",
    "\n",
    "        # Both variables of interest gets replaced by tensors, with extra dimensions so the loss function return a results from broadcasting\n",
    "        # When we call the model with training = False, every possible higher rank tensor gets remapped to have rank 4, so that this part of the code does not break\n",
    "        model_copy.model_variables[raw_par1] = tf.Variable(\n",
    "            tf.constant(raw_par1_values, dtype = tf.float32, shape = (1, 1, len(par1_values), 1)), trainable = False\n",
    "        )\n",
    "        model_copy.model_variables[raw_par2] = tf.Variable(\n",
    "            tf.constant(raw_par2_values, dtype = tf.float32, shape = (1, 1, 1, len(par2_values))), trainable = False\n",
    "        )\n",
    "\n",
    "        nn_output = model_copy(self.x_train, training = False)\n",
    "        t_reshaped = tf.reshape(self.t_train, shape = (self.t_train.shape[0], 1, 1, 1))\n",
    "        delta_reshaped = tf.reshape(self.delta_train, shape = (self.delta_train.shape[0], 1, 1, 1))\n",
    "        \n",
    "        # Obtain the log-likelihood values for different values of parameter 1 and 2\n",
    "        # Since the final loss shape is given by (1, dim_par1, dim_par2):\n",
    "        #     - (The first dim is reduced in reduce_main. The second one is temporary to a possible nn_output that is a vector)\n",
    "        loss_values_par1_par2 = model_copy.loglikelihood_loss(model = model_copy, nn_output = nn_output, t = t_reshaped, delta = delta_reshaped)\n",
    "\n",
    "        fig = go.Figure(data=[go.Surface(x = par1_values, y = par2_values, z = -tf.transpose( loss_values_par1_par2 ), colorscale = colorscale)])\n",
    "        fig.update_layout(\n",
    "            title = dict(text = r\"Profile-Loglikelihood surface ({} x {})\".format(par1, par2)),\n",
    "            autosize = False,\n",
    "            width = 500, height = 500,\n",
    "            margin = dict(l = 65, r = 50, b = 65, t = 90)\n",
    "        )\n",
    "\n",
    "        self_nn_output = self(self.x_train, training = True)\n",
    "        current_loglikelihood_loss = self.loglikelihood_loss(model = self, nn_output = self_nn_output, t = self.t_train, delta = self.delta_train)\n",
    "\n",
    "        camera = dict(\n",
    "            eye=dict(x=-1.5, y=-1.5, z=1.5),  # negative x and y rotates 180° in XY\n",
    "            center=dict(x=0, y=0, z=0),\n",
    "            up=dict(x=0, y=0, z=1)\n",
    "        )\n",
    "        fig.update_layout(scene_camera = camera, scene = dict(\n",
    "            xaxis = dict(\n",
    "                tickangle=45,\n",
    "                title = dict(\n",
    "                    text = \"{}\".format(par1)\n",
    "                )\n",
    "            ),\n",
    "            yaxis = dict(\n",
    "                tickangle=-90,\n",
    "                title = dict(\n",
    "                    text = \"{}\".format(par2)\n",
    "                )\n",
    "            ),\n",
    "            zaxis = dict(\n",
    "                title = dict(\n",
    "                    text = \"Profile-Loglikelihood\"\n",
    "                )\n",
    "            ),\n",
    "        ))\n",
    "        fig.add_trace(go.Scatter3d(\n",
    "            x=[self.get_variable(par1)],\n",
    "            y=[self.get_variable(par2)],\n",
    "            z=[-current_loglikelihood_loss],\n",
    "            mode='markers+text',\n",
    "            marker=dict(size=10, color='red', symbol='circle'),\n",
    "            text=['True maximum'],\n",
    "            textposition='top center'\n",
    "        ))\n",
    "\n",
    "        return fig\n",
    "    "
   ]
  },
  {
   "cell_type": "markdown",
   "id": "d1748058",
   "metadata": {},
   "source": [
    "# Data generation"
   ]
  },
  {
   "cell_type": "code",
   "execution_count": 5,
   "id": "23f40bbf",
   "metadata": {},
   "outputs": [
    {
     "name": "stdout",
     "output_type": "stream",
     "text": [
      "Proportion of censoring: 0.5823529411764705\n",
      "Proportion of cured: 0.49607843137254903\n"
     ]
    }
   ],
   "source": [
    "import pvf\n",
    "import weibull\n",
    "import pvfnn_generate_sim_data as pvf_model\n",
    "\n",
    "theta_function2 = lambda x1, x2 : 5 * np.exp(-(x1**2 + x2**2)/0.5 )\n",
    "\n",
    "alpha_ = 0.3\n",
    "mu_ = 1.0\n",
    "gamma_ = 2.0\n",
    "phi1_ = 2.0\n",
    "phi2_ = 0.6\n",
    "\n",
    "# n = 716\n",
    "n_train = 500\n",
    "n_test = 10\n",
    "\n",
    "rng = np.random.default_rng(1)\n",
    "cens_loc = 0.0\n",
    "cens_scale = 3.0\n",
    "\n",
    "t_train, delta_train, x1_train, x2_train, theta_train, w_train, z_train, \\\n",
    "t_test, delta_test, x1_test, x2_test, theta_test, w_test, z_test, df = pvf_model.sample_train_test2(\n",
    "    theta_function2,\n",
    "    alpha_, mu_, gamma_, phi1_, phi2_,\n",
    "    n_train = n_train, n_test = n_test, cens_loc = cens_loc, cens_scale = cens_scale, random_state = rng\n",
    ")\n",
    "print(\"Proportion of censoring: {}\".format(1-np.mean(df[\"delta\"])))\n",
    "print(\"Proportion of cured: {}\".format(np.mean(df[\"z\"] == 0)))"
   ]
  },
  {
   "cell_type": "markdown",
   "id": "1435eca8",
   "metadata": {},
   "source": [
    "# Model specification"
   ]
  },
  {
   "cell_type": "code",
   "execution_count": 8,
   "id": "ef198b8a",
   "metadata": {},
   "outputs": [],
   "source": [
    "pvf_parameters = {\n",
    "    \"theta\": {\"link\": lambda x : tf.math.exp(x), \"link_inv\": lambda x : tf.math.log(x), \"par_type\": \"nn\", \"update_func\": None, \"shape\": None, \"initializer\": None},\n",
    "    # \"tau\": {\"link\": lambda x : tf.math.exp(x), \"link_inv\": lambda x : tf.math.log(x), \"par_type\": \"nn\", \"update_func\": None, \"shape\": 5, \"initializer\": None},\n",
    "    \"alpha\": {\"link\": lambda x : 1/(1+tf.math.exp(-x)), \"link_inv\": lambda x : tf.math.log(x) - tf.math.log(1-x), \"par_type\": \"independent\", \"update_func\": None, \"shape\": None, \"init\": 0.5},\n",
    "    \"gamma\": {\"link\": lambda x : tf.math.exp(x), \"link_inv\": lambda x : tf.math.log(x), \"par_type\": \"independent\", \"update_func\": None, \"shape\": None, \"init\": 1.0},\n",
    "    \"phi1\": {\"link\": lambda x : tf.math.exp(x), \"link_inv\": lambda x : tf.math.log(x), \"par_type\": \"independent\", \"update_func\": None, \"shape\": None, \"init\": 1.0},\n",
    "    \"phi2\": {\"link\": lambda x : tf.identity(x), \"link_inv\": lambda x : tf.identity(x), \"par_type\": \"independent\", \"update_func\": None, \"shape\": None, \"init\": 0.0}\n",
    "}\n",
    "\n",
    "def pvf_loglikelihood_loss(model, nn_output, t, delta):\n",
    "        \"\"\"\n",
    "            This is an example of a correctly defined loss function.\n",
    "        \"\"\"\n",
    "        theta = model.get_variable(\"theta\", nn_output)\n",
    "\n",
    "        alpha = model.get_variable(\"alpha\")\n",
    "        gamma = model.get_variable(\"gamma\")\n",
    "        phi1 = model.get_variable(\"phi1\")\n",
    "        phi2 = model.get_variable(\"phi2\")\n",
    "\n",
    "        log_f0 = tf.math.log(phi1) + (phi1-1)*tf.math.log(t) + phi2 - tf.math.exp(phi2) * tf.math.pow(t, phi1)\n",
    "        F0 = 1 - tf.math.exp(-tf.math.pow(t, phi1) * tf.math.exp(phi2))\n",
    "\n",
    "        laplace_transform_term = 1 + gamma*theta*F0/(1-alpha)\n",
    "\n",
    "        loss_weights = delta*tf.math.log(theta) + delta*log_f0 + (1-alpha)/(alpha*gamma)*(1 - tf.math.pow(laplace_transform_term, alpha)) + (alpha-1)*delta*tf.math.log(laplace_transform_term)\n",
    "\n",
    "        # It is very important to specify axis = [0,1] in this case, since the output shape for this function might be an array if we pass multiple parameters to it\n",
    "        # That happens, for example, in the method plot_loglikelihood, that builds pairwise 3d surface plots for the log-likelihood automatically\n",
    "        # The mean should always be taken in axis 0 and 1. The first relates to the data indices directly, while the second relates to the output dimension\n",
    "        # of the neural network layers. The second dimension should always be equal to one. That means that even if we have vector parameter outputs from\n",
    "        # the neural network component, the loglikelihood loss must return a single numeric value with shape () during training\n",
    "        loss_weights_mean = -tf.math.reduce_mean(loss_weights, axis = [0,1])\n",
    "        \n",
    "        return loss_weights_mean\n",
    "\n",
    "def pvf_neural_network(model, seed = None):\n",
    "    \"\"\" \n",
    "        This is an example of a correctly defined neural network structure definition function.\n",
    "    \"\"\"\n",
    "    initializer = initializers.GlorotNormal(seed = seed)\n",
    "    model.dense1 = keras.layers.Dense(units = 16, activation = \"gelu\", kernel_initializer = initializer, dtype = tf.float32, name = \"dense1\")\n",
    "    model.dense2 = keras.layers.Dense(units = 1, kernel_initializer = initializer, dtype = tf.float32, activation = None, use_bias = False, name = \"output\")\n",
    "\n",
    "def pvf_neural_network_call(model, x_input):\n",
    "    \"\"\"\n",
    "        This is an example of a correctly defined neural netowork call function. Its elements such as dense1 and dense2 must have been defined in neural_network_structure.\n",
    "        Otherwise, it will result in an error\n",
    "    \"\"\"\n",
    "    x = model.dense1(x_input)\n",
    "    x = model.dense2(x)\n",
    "    return x"
   ]
  },
  {
   "cell_type": "markdown",
   "id": "00d91c6e",
   "metadata": {},
   "source": [
    "# Model fitting"
   ]
  },
  {
   "cell_type": "code",
   "execution_count": 9,
   "id": "3e93beac",
   "metadata": {},
   "outputs": [
    {
     "data": {
      "application/vnd.jupyter.widget-view+json": {
       "model_id": "d90ff19ceaf04ee2a54b96487a6f1552",
       "version_major": 2,
       "version_minor": 0
      },
      "text/plain": [
       "0epoch [00:00, ?epoch/s]"
      ]
     },
     "metadata": {},
     "output_type": "display_data"
    },
    {
     "name": "stdout",
     "output_type": "stream",
     "text": [
      "alpha: 0.48080021142959595\n",
      "gamma: 0.8586330413818359\n",
      "phi1: 1.515296220779419\n",
      "phi2: 0.5529723167419434\n"
     ]
    }
   ],
   "source": [
    "x_train = np.concatenate([x1_train[:,None], x2_train[:,None]], axis = 1)\n",
    "model = FrailtyModelNN(pvf_parameters, pvf_loglikelihood_loss, pvf_neural_network, pvf_neural_network_call, input_dim = (None, 2), seed = 10)\n",
    "\n",
    "model.train_model(x_train, t_train, delta_train,\n",
    "                  epochs = 50, shuffle = True,\n",
    "                  validation = False, val_prop = 0.2,\n",
    "                  optimizer_independent_pars = optimizers.Adam(learning_rate = 0.01),\n",
    "                  optimizer_nn = optimizers.AdamW(learning_rate = 0.1),\n",
    "                  train_batch_size = None, val_batch_size = None,\n",
    "                  buffer_size = 4096, gradient_accumulation_steps = None,\n",
    "                  early_stopping = True, early_stopping_min_delta = 0.0, early_stopping_patience = 10, early_stopping_warmup = 100,\n",
    "                  run_eagerly = False, verbose = 1)\n",
    "\n",
    "print(\"alpha: {}\".format( model.get_variable(\"alpha\") ))\n",
    "print(\"gamma: {}\".format( model.get_variable(\"gamma\") ))\n",
    "print(\"phi1: {}\".format( model.get_variable(\"phi1\") ))\n",
    "print(\"phi2: {}\".format( model.get_variable(\"phi2\") ))"
   ]
  },
  {
   "cell_type": "code",
   "execution_count": 152,
   "id": "61de3813",
   "metadata": {},
   "outputs": [],
   "source": [
    "def plot_grid_3d(figs, nrows, ncols, figsize = (12,8)):   \n",
    "    specs = []\n",
    "    for i in range(nrows):\n",
    "        specs_row = []\n",
    "        for i in range(ncols): \n",
    "            specs_row.append( {'type':'surface'} )\n",
    "        specs.append( specs_row )\n",
    "    \n",
    "    fig = make_subplots(rows = nrows, cols = ncols, specs=specs)\n",
    "\n",
    "    i, j = 1, 1\n",
    "    # Add traces\n",
    "    for k, f in enumerate(figs):\n",
    "        print(i,j)\n",
    "        for trace in f.data:\n",
    "            # Ensure it's a surface trace before modifying colorbar\n",
    "            if isinstance(trace, go.Surface):\n",
    "                trace.update(\n",
    "                    showscale=True,\n",
    "                    showlegend=False,\n",
    "                    colorbar=dict(\n",
    "                        x = i*0.1 + 0.35,  # shift colorbar horizontally\n",
    "                        y = j*0.5 - 0.5,\n",
    "                        len = 0.5,\n",
    "                        title = \"\"  # you can customize\n",
    "                    )\n",
    "                )\n",
    "            fig.add_trace(trace, row = j, col = i)\n",
    "\n",
    "        # scene_name = f'scene{i}'\n",
    "        # fig.update_layout({\n",
    "        #     scene_name: dict(\n",
    "        #         xaxis_title = f.layout.scene.xaxis.title.text if f.layout.scene.xaxis.title.text else '',\n",
    "        #         yaxis_title = f.layout.scene.yaxis.title.text if f.layout.scene.yaxis.title.text else '',\n",
    "        #         zaxis_title = f.layout.scene.zaxis.title.text if f.layout.scene.zaxis.title.text else '',\n",
    "        #         camera = f.layout.scene.camera if 'camera' in f.layout.scene else None\n",
    "        #     )\n",
    "        # })\n",
    "\n",
    "        i += 1\n",
    "        if((i-1) % ncols == 0):\n",
    "            i = 1\n",
    "            j += 1\n",
    "\n",
    "    # # Copy layout for each subplot\n",
    "    # for i, f in enumerate([fig_alpha_gamma, fig_alpha_phi1], start=1):\n",
    "    #     scene_name = f'scene{i}'\n",
    "    #     fig.update_layout({\n",
    "    #         scene_name: dict(\n",
    "    #             xaxis_title = f.layout.scene.xaxis.title.text if f.layout.scene.xaxis.title.text else '',\n",
    "    #             yaxis_title = f.layout.scene.yaxis.title.text if f.layout.scene.yaxis.title.text else '',\n",
    "    #             zaxis_title = f.layout.scene.zaxis.title.text if f.layout.scene.zaxis.title.text else '',\n",
    "    #             camera = f.layout.scene.camera if 'camera' in f.layout.scene else None\n",
    "    #         )\n",
    "    #     })\n",
    "\n",
    "    # Adjust layout to remove empty space between subplots\n",
    "    fig.update_layout(\n",
    "        height = nrows*500,\n",
    "        width = ncols*500,\n",
    "        margin=dict(l=20, r=20, t=50, b=20),  # trim outer margins\n",
    "    )\n",
    "\n",
    "    fig.update_layout(showlegend=False)\n",
    "\n",
    "    return fig"
   ]
  },
  {
   "cell_type": "code",
   "execution_count": 151,
   "id": "48032246",
   "metadata": {},
   "outputs": [
    {
     "name": "stdout",
     "output_type": "stream",
     "text": [
      "1 1\n",
      "2 1\n",
      "1 2\n",
      "2 2\n"
     ]
    },
    {
     "data": {
      "application/vnd.plotly.v1+json": {
       "config": {
        "plotlyServerURL": "https://plot.ly"
       },
       "data": [
        {
         "colorbar": {
          "len": 0.5,
          "title": {
           "text": ""
          },
          "x": 0.44999999999999996,
          "y": 0.4
         },
         "colorscale": [
          [
           0,
           "#000004"
          ],
          [
           0.1111111111111111,
           "#1b0c41"
          ],
          [
           0.2222222222222222,
           "#4a0c6b"
          ],
          [
           0.3333333333333333,
           "#781c6d"
          ],
          [
           0.4444444444444444,
           "#a52c60"
          ],
          [
           0.5555555555555556,
           "#cf4446"
          ],
          [
           0.6666666666666666,
           "#ed6925"
          ],
          [
           0.7777777777777778,
           "#fb9b06"
          ],
          [
           0.8888888888888888,
           "#f7d13d"
          ],
          [
           1,
           "#fcffa4"
          ]
         ],
         "scene": "scene",
         "showlegend": false,
         "showscale": true,
         "type": "surface",
         "x": {
          "bdata": "CtcjPDUDozzlGvQ8SpkiPSIlSz36sHM9aR6OPVVkoj1BqrY9LfDKPRk23z0FfPM9+eADPu8DDj7lJhg+20kiPtFsLD7HjzY+vbJAPrPVSj6p+FQ+nxtfPpU+aT6LYXM+gYR9PrvTgz425Yg+sfaNPiwIkz6nGZg+IiudPp08oj4YTqc+k1+sPg5xsT6JgrY+BJS7Pn+lwD76tsU+dcjKPvDZzz5r69Q+5vzZPmEO3z7cH+Q+VzHpPtJC7j5NVPM+yGX4PkN3/T5fRAE/HM0DP9pVBj+Y3gg/VWcLPxLwDT/QeBA/jgETP0uKFT8IExg/xpsaP4QkHT9BrR8//jUiP7y+JD96Ryc/N9ApP/RYLD+y4S4/cGoxPy3zMz/qezY/qAQ5P2aNOz8jFj4/4J5AP54nQz9csEU/GTlIP9bBSj+USk0/UtNPPw9cUj/M5FQ/im1XP0j2WT8Ff1w/wgdfP4CQYT8+GWQ/+6FmP7gqaT92s2s/NDxuP/HEcD+uTXM/bNZ1PypfeD/n53o/pHB9Pw==",
          "dtype": "f4"
         },
         "y": {
          "bdata": "CtcjPE4k4z3e5lg+yh2gPiXI0z5AuQM/bo4dP5tjNz/JOFE/9w1rP5Jxgj8pXI8/wEacP1cxqT/tG7Y/hAbDPxvxzz+y29w/ScbpP9+w9j+7zQFAB0MIQFK4DkCdLRVA6aIbQDQYIkCAjShAywIvQBZ4NUBi7TtArWJCQPnXSEBETU9Aj8JVQNs3XEAmrWJAciJpQL2Xb0AIDXZAVIJ8QNB7gUB2toRAHPGHQMEri0BnZo5ADaGRQLLblEBYFphA/lCbQKOLnkBJxqFA7wClQJU7qEA6dqtA4LCuQIbrsUArJrVA0WC4QHebu0Ac1r5AwhDCQGhLxUAOhshAs8DLQFn7zkD/NdJApHDVQEqr2EDw5dtAliDfQDtb4kDhleVAh9DoQCwL7EDSRe9AeIDyQB279UDD9fhAaTD8QA9r/0DaUgFBLfACQYCNBEHTKgZBJsgHQXhlCUHLAgtBHqAMQXE9DkHE2g9BF3gRQWkVE0G8shRBD1AWQWLtF0G1ihlBCCgbQVvFHEGtYh5BAAAgQQ==",
          "dtype": "f4"
         },
         "z": {
          "bdata": "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",
          "dtype": "f4",
          "shape": "100, 100"
         }
        },
        {
         "marker": {
          "color": "red",
          "size": 10,
          "symbol": "circle"
         },
         "mode": "markers+text",
         "scene": "scene",
         "text": [
          "True maximum"
         ],
         "textposition": "top center",
         "type": "scatter3d",
         "x": [
          0.48080021142959595
         ],
         "y": [
          0.8586330413818359
         ],
         "z": [
          -0.5718472003936768
         ]
        },
        {
         "colorbar": {
          "len": 0.5,
          "title": {
           "text": ""
          },
          "x": 0.55,
          "y": 0.4
         },
         "colorscale": [
          [
           0,
           "#000004"
          ],
          [
           0.1111111111111111,
           "#1b0c41"
          ],
          [
           0.2222222222222222,
           "#4a0c6b"
          ],
          [
           0.3333333333333333,
           "#781c6d"
          ],
          [
           0.4444444444444444,
           "#a52c60"
          ],
          [
           0.5555555555555556,
           "#cf4446"
          ],
          [
           0.6666666666666666,
           "#ed6925"
          ],
          [
           0.7777777777777778,
           "#fb9b06"
          ],
          [
           0.8888888888888888,
           "#f7d13d"
          ],
          [
           1,
           "#fcffa4"
          ]
         ],
         "scene": "scene2",
         "showlegend": false,
         "showscale": true,
         "type": "surface",
         "x": {
          "bdata": "CtcjPDUDozzlGvQ8SpkiPSIlSz36sHM9aR6OPVVkoj1BqrY9LfDKPRk23z0FfPM9+eADPu8DDj7lJhg+20kiPtFsLD7HjzY+vbJAPrPVSj6p+FQ+nxtfPpU+aT6LYXM+gYR9PrvTgz425Yg+sfaNPiwIkz6nGZg+IiudPp08oj4YTqc+k1+sPg5xsT6JgrY+BJS7Pn+lwD76tsU+dcjKPvDZzz5r69Q+5vzZPmEO3z7cH+Q+VzHpPtJC7j5NVPM+yGX4PkN3/T5fRAE/HM0DP9pVBj+Y3gg/VWcLPxLwDT/QeBA/jgETP0uKFT8IExg/xpsaP4QkHT9BrR8//jUiP7y+JD96Ryc/N9ApP/RYLD+y4S4/cGoxPy3zMz/qezY/qAQ5P2aNOz8jFj4/4J5AP54nQz9csEU/GTlIP9bBSj+USk0/UtNPPw9cUj/M5FQ/im1XP0j2WT8Ff1w/wgdfP4CQYT8+GWQ/+6FmP7gqaT92s2s/NDxuP/HEcD+uTXM/bNZ1PypfeD/n53o/pHB9Pw==",
          "dtype": "f4"
         },
         "y": {
          "bdata": "CtcjPE4k4z3e5lg+yh2gPiXI0z5AuQM/bo4dP5tjNz/JOFE/9w1rP5Jxgj8pXI8/wEacP1cxqT/tG7Y/hAbDPxvxzz+y29w/ScbpP9+w9j+7zQFAB0MIQFK4DkCdLRVA6aIbQDQYIkCAjShAywIvQBZ4NUBi7TtArWJCQPnXSEBETU9Aj8JVQNs3XEAmrWJAciJpQL2Xb0AIDXZAVIJ8QNB7gUB2toRAHPGHQMEri0BnZo5ADaGRQLLblEBYFphA/lCbQKOLnkBJxqFA7wClQJU7qEA6dqtA4LCuQIbrsUArJrVA0WC4QHebu0Ac1r5AwhDCQGhLxUAOhshAs8DLQFn7zkD/NdJApHDVQEqr2EDw5dtAliDfQDtb4kDhleVAh9DoQCwL7EDSRe9AeIDyQB279UDD9fhAaTD8QA9r/0DaUgFBLfACQYCNBEHTKgZBJsgHQXhlCUHLAgtBHqAMQXE9DkHE2g9BF3gRQWkVE0G8shRBD1AWQWLtF0G1ihlBCCgbQVvFHEGtYh5BAAAgQQ==",
          "dtype": "f4"
         },
         "z": {
          "bdata": "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",
          "dtype": "f4",
          "shape": "100, 100"
         }
        },
        {
         "marker": {
          "color": "red",
          "size": 10,
          "symbol": "circle"
         },
         "mode": "markers+text",
         "scene": "scene2",
         "text": [
          "True maximum"
         ],
         "textposition": "top center",
         "type": "scatter3d",
         "x": [
          0.48080021142959595
         ],
         "y": [
          1.515296220779419
         ],
         "z": [
          -0.5718472003936768
         ]
        },
        {
         "colorbar": {
          "len": 0.5,
          "title": {
           "text": ""
          },
          "x": 0.44999999999999996,
          "y": 0.9
         },
         "colorscale": [
          [
           0,
           "#000004"
          ],
          [
           0.1111111111111111,
           "#1b0c41"
          ],
          [
           0.2222222222222222,
           "#4a0c6b"
          ],
          [
           0.3333333333333333,
           "#781c6d"
          ],
          [
           0.4444444444444444,
           "#a52c60"
          ],
          [
           0.5555555555555556,
           "#cf4446"
          ],
          [
           0.6666666666666666,
           "#ed6925"
          ],
          [
           0.7777777777777778,
           "#fb9b06"
          ],
          [
           0.8888888888888888,
           "#f7d13d"
          ],
          [
           1,
           "#fcffa4"
          ]
         ],
         "scene": "scene3",
         "showlegend": false,
         "showscale": true,
         "type": "surface",
         "x": {
          "bdata": "CtcjPDUDozzlGvQ8SpkiPSIlSz36sHM9aR6OPVVkoj1BqrY9LfDKPRk23z0FfPM9+eADPu8DDj7lJhg+20kiPtFsLD7HjzY+vbJAPrPVSj6p+FQ+nxtfPpU+aT6LYXM+gYR9PrvTgz425Yg+sfaNPiwIkz6nGZg+IiudPp08oj4YTqc+k1+sPg5xsT6JgrY+BJS7Pn+lwD76tsU+dcjKPvDZzz5r69Q+5vzZPmEO3z7cH+Q+VzHpPtJC7j5NVPM+yGX4PkN3/T5fRAE/HM0DP9pVBj+Y3gg/VWcLPxLwDT/QeBA/jgETP0uKFT8IExg/xpsaP4QkHT9BrR8//jUiP7y+JD96Ryc/N9ApP/RYLD+y4S4/cGoxPy3zMz/qezY/qAQ5P2aNOz8jFj4/4J5AP54nQz9csEU/GTlIP9bBSj+USk0/UtNPPw9cUj/M5FQ/im1XP0j2WT8Ff1w/wgdfP4CQYT8+GWQ/+6FmP7gqaT92s2s/NDxuP/HEcD+uTXM/bNZ1PypfeD/n53o/pHB9Pw==",
          "dtype": "f4"
         },
         "y": {
          "bdata": "CtcjPE4k4z3e5lg+yh2gPiXI0z5AuQM/bo4dP5tjNz/JOFE/9w1rP5Jxgj8pXI8/wEacP1cxqT/tG7Y/hAbDPxvxzz+y29w/ScbpP9+w9j+7zQFAB0MIQFK4DkCdLRVA6aIbQDQYIkCAjShAywIvQBZ4NUBi7TtArWJCQPnXSEBETU9Aj8JVQNs3XEAmrWJAciJpQL2Xb0AIDXZAVIJ8QNB7gUB2toRAHPGHQMEri0BnZo5ADaGRQLLblEBYFphA/lCbQKOLnkBJxqFA7wClQJU7qEA6dqtA4LCuQIbrsUArJrVA0WC4QHebu0Ac1r5AwhDCQGhLxUAOhshAs8DLQFn7zkD/NdJApHDVQEqr2EDw5dtAliDfQDtb4kDhleVAh9DoQCwL7EDSRe9AeIDyQB279UDD9fhAaTD8QA9r/0DaUgFBLfACQYCNBEHTKgZBJsgHQXhlCUHLAgtBHqAMQXE9DkHE2g9BF3gRQWkVE0G8shRBD1AWQWLtF0G1ihlBCCgbQVvFHEGtYh5BAAAgQQ==",
          "dtype": "f4"
         },
         "z": {
          "bdata": "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",
          "dtype": "f4",
          "shape": "100, 100"
         }
        },
        {
         "marker": {
          "color": "red",
          "size": 10,
          "symbol": "circle"
         },
         "mode": "markers+text",
         "scene": "scene3",
         "text": [
          "True maximum"
         ],
         "textposition": "top center",
         "type": "scatter3d",
         "x": [
          0.48080021142959595
         ],
         "y": [
          1.515296220779419
         ],
         "z": [
          -0.5718472003936768
         ]
        },
        {
         "colorbar": {
          "len": 0.5,
          "title": {
           "text": ""
          },
          "x": 0.55,
          "y": 0.9
         },
         "colorscale": [
          [
           0,
           "#000004"
          ],
          [
           0.1111111111111111,
           "#1b0c41"
          ],
          [
           0.2222222222222222,
           "#4a0c6b"
          ],
          [
           0.3333333333333333,
           "#781c6d"
          ],
          [
           0.4444444444444444,
           "#a52c60"
          ],
          [
           0.5555555555555556,
           "#cf4446"
          ],
          [
           0.6666666666666666,
           "#ed6925"
          ],
          [
           0.7777777777777778,
           "#fb9b06"
          ],
          [
           0.8888888888888888,
           "#f7d13d"
          ],
          [
           1,
           "#fcffa4"
          ]
         ],
         "scene": "scene4",
         "showlegend": false,
         "showscale": true,
         "type": "surface",
         "x": {
          "bdata": "CtcjPDUDozzlGvQ8SpkiPSIlSz36sHM9aR6OPVVkoj1BqrY9LfDKPRk23z0FfPM9+eADPu8DDj7lJhg+20kiPtFsLD7HjzY+vbJAPrPVSj6p+FQ+nxtfPpU+aT6LYXM+gYR9PrvTgz425Yg+sfaNPiwIkz6nGZg+IiudPp08oj4YTqc+k1+sPg5xsT6JgrY+BJS7Pn+lwD76tsU+dcjKPvDZzz5r69Q+5vzZPmEO3z7cH+Q+VzHpPtJC7j5NVPM+yGX4PkN3/T5fRAE/HM0DP9pVBj+Y3gg/VWcLPxLwDT/QeBA/jgETP0uKFT8IExg/xpsaP4QkHT9BrR8//jUiP7y+JD96Ryc/N9ApP/RYLD+y4S4/cGoxPy3zMz/qezY/qAQ5P2aNOz8jFj4/4J5AP54nQz9csEU/GTlIP9bBSj+USk0/UtNPPw9cUj/M5FQ/im1XP0j2WT8Ff1w/wgdfP4CQYT8+GWQ/+6FmP7gqaT92s2s/NDxuP/HEcD+uTXM/bNZ1PypfeD/n53o/pHB9Pw==",
          "dtype": "f4"
         },
         "y": {
          "bdata": "CtcjPE4k4z3e5lg+yh2gPiXI0z5AuQM/bo4dP5tjNz/JOFE/9w1rP5Jxgj8pXI8/wEacP1cxqT/tG7Y/hAbDPxvxzz+y29w/ScbpP9+w9j+7zQFAB0MIQFK4DkCdLRVA6aIbQDQYIkCAjShAywIvQBZ4NUBi7TtArWJCQPnXSEBETU9Aj8JVQNs3XEAmrWJAciJpQL2Xb0AIDXZAVIJ8QNB7gUB2toRAHPGHQMEri0BnZo5ADaGRQLLblEBYFphA/lCbQKOLnkBJxqFA7wClQJU7qEA6dqtA4LCuQIbrsUArJrVA0WC4QHebu0Ac1r5AwhDCQGhLxUAOhshAs8DLQFn7zkD/NdJApHDVQEqr2EDw5dtAliDfQDtb4kDhleVAh9DoQCwL7EDSRe9AeIDyQB279UDD9fhAaTD8QA9r/0DaUgFBLfACQYCNBEHTKgZBJsgHQXhlCUHLAgtBHqAMQXE9DkHE2g9BF3gRQWkVE0G8shRBD1AWQWLtF0G1ihlBCCgbQVvFHEGtYh5BAAAgQQ==",
          "dtype": "f4"
         },
         "z": {
          "bdata": "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",
          "dtype": "f4",
          "shape": "100, 100"
         }
        },
        {
         "marker": {
          "color": "red",
          "size": 10,
          "symbol": "circle"
         },
         "mode": "markers+text",
         "scene": "scene4",
         "text": [
          "True maximum"
         ],
         "textposition": "top center",
         "type": "scatter3d",
         "x": [
          0.8586330413818359
         ],
         "y": [
          1.515296220779419
         ],
         "z": [
          -0.5718472003936768
         ]
        }
       ],
       "layout": {
        "height": 1000,
        "margin": {
         "b": 20,
         "l": 20,
         "r": 20,
         "t": 50
        },
        "scene": {
         "domain": {
          "x": [
           0,
           0.45
          ],
          "y": [
           0.575,
           1
          ]
         }
        },
        "scene2": {
         "domain": {
          "x": [
           0.55,
           1
          ],
          "y": [
           0.575,
           1
          ]
         }
        },
        "scene3": {
         "domain": {
          "x": [
           0,
           0.45
          ],
          "y": [
           0,
           0.425
          ]
         }
        },
        "scene4": {
         "domain": {
          "x": [
           0.55,
           1
          ],
          "y": [
           0,
           0.425
          ]
         }
        },
        "showlegend": false,
        "template": {
         "data": {
          "bar": [
           {
            "error_x": {
             "color": "#2a3f5f"
            },
            "error_y": {
             "color": "#2a3f5f"
            },
            "marker": {
             "line": {
              "color": "#E5ECF6",
              "width": 0.5
             },
             "pattern": {
              "fillmode": "overlay",
              "size": 10,
              "solidity": 0.2
             }
            },
            "type": "bar"
           }
          ],
          "barpolar": [
           {
            "marker": {
             "line": {
              "color": "#E5ECF6",
              "width": 0.5
             },
             "pattern": {
              "fillmode": "overlay",
              "size": 10,
              "solidity": 0.2
             }
            },
            "type": "barpolar"
           }
          ],
          "carpet": [
           {
            "aaxis": {
             "endlinecolor": "#2a3f5f",
             "gridcolor": "white",
             "linecolor": "white",
             "minorgridcolor": "white",
             "startlinecolor": "#2a3f5f"
            },
            "baxis": {
             "endlinecolor": "#2a3f5f",
             "gridcolor": "white",
             "linecolor": "white",
             "minorgridcolor": "white",
             "startlinecolor": "#2a3f5f"
            },
            "type": "carpet"
           }
          ],
          "choropleth": [
           {
            "colorbar": {
             "outlinewidth": 0,
             "ticks": ""
            },
            "type": "choropleth"
           }
          ],
          "contour": [
           {
            "colorbar": {
             "outlinewidth": 0,
             "ticks": ""
            },
            "colorscale": [
             [
              0,
              "#0d0887"
             ],
             [
              0.1111111111111111,
              "#46039f"
             ],
             [
              0.2222222222222222,
              "#7201a8"
             ],
             [
              0.3333333333333333,
              "#9c179e"
             ],
             [
              0.4444444444444444,
              "#bd3786"
             ],
             [
              0.5555555555555556,
              "#d8576b"
             ],
             [
              0.6666666666666666,
              "#ed7953"
             ],
             [
              0.7777777777777778,
              "#fb9f3a"
             ],
             [
              0.8888888888888888,
              "#fdca26"
             ],
             [
              1,
              "#f0f921"
             ]
            ],
            "type": "contour"
           }
          ],
          "contourcarpet": [
           {
            "colorbar": {
             "outlinewidth": 0,
             "ticks": ""
            },
            "type": "contourcarpet"
           }
          ],
          "heatmap": [
           {
            "colorbar": {
             "outlinewidth": 0,
             "ticks": ""
            },
            "colorscale": [
             [
              0,
              "#0d0887"
             ],
             [
              0.1111111111111111,
              "#46039f"
             ],
             [
              0.2222222222222222,
              "#7201a8"
             ],
             [
              0.3333333333333333,
              "#9c179e"
             ],
             [
              0.4444444444444444,
              "#bd3786"
             ],
             [
              0.5555555555555556,
              "#d8576b"
             ],
             [
              0.6666666666666666,
              "#ed7953"
             ],
             [
              0.7777777777777778,
              "#fb9f3a"
             ],
             [
              0.8888888888888888,
              "#fdca26"
             ],
             [
              1,
              "#f0f921"
             ]
            ],
            "type": "heatmap"
           }
          ],
          "histogram": [
           {
            "marker": {
             "pattern": {
              "fillmode": "overlay",
              "size": 10,
              "solidity": 0.2
             }
            },
            "type": "histogram"
           }
          ],
          "histogram2d": [
           {
            "colorbar": {
             "outlinewidth": 0,
             "ticks": ""
            },
            "colorscale": [
             [
              0,
              "#0d0887"
             ],
             [
              0.1111111111111111,
              "#46039f"
             ],
             [
              0.2222222222222222,
              "#7201a8"
             ],
             [
              0.3333333333333333,
              "#9c179e"
             ],
             [
              0.4444444444444444,
              "#bd3786"
             ],
             [
              0.5555555555555556,
              "#d8576b"
             ],
             [
              0.6666666666666666,
              "#ed7953"
             ],
             [
              0.7777777777777778,
              "#fb9f3a"
             ],
             [
              0.8888888888888888,
              "#fdca26"
             ],
             [
              1,
              "#f0f921"
             ]
            ],
            "type": "histogram2d"
           }
          ],
          "histogram2dcontour": [
           {
            "colorbar": {
             "outlinewidth": 0,
             "ticks": ""
            },
            "colorscale": [
             [
              0,
              "#0d0887"
             ],
             [
              0.1111111111111111,
              "#46039f"
             ],
             [
              0.2222222222222222,
              "#7201a8"
             ],
             [
              0.3333333333333333,
              "#9c179e"
             ],
             [
              0.4444444444444444,
              "#bd3786"
             ],
             [
              0.5555555555555556,
              "#d8576b"
             ],
             [
              0.6666666666666666,
              "#ed7953"
             ],
             [
              0.7777777777777778,
              "#fb9f3a"
             ],
             [
              0.8888888888888888,
              "#fdca26"
             ],
             [
              1,
              "#f0f921"
             ]
            ],
            "type": "histogram2dcontour"
           }
          ],
          "mesh3d": [
           {
            "colorbar": {
             "outlinewidth": 0,
             "ticks": ""
            },
            "type": "mesh3d"
           }
          ],
          "parcoords": [
           {
            "line": {
             "colorbar": {
              "outlinewidth": 0,
              "ticks": ""
             }
            },
            "type": "parcoords"
           }
          ],
          "pie": [
           {
            "automargin": true,
            "type": "pie"
           }
          ],
          "scatter": [
           {
            "fillpattern": {
             "fillmode": "overlay",
             "size": 10,
             "solidity": 0.2
            },
            "type": "scatter"
           }
          ],
          "scatter3d": [
           {
            "line": {
             "colorbar": {
              "outlinewidth": 0,
              "ticks": ""
             }
            },
            "marker": {
             "colorbar": {
              "outlinewidth": 0,
              "ticks": ""
             }
            },
            "type": "scatter3d"
           }
          ],
          "scattercarpet": [
           {
            "marker": {
             "colorbar": {
              "outlinewidth": 0,
              "ticks": ""
             }
            },
            "type": "scattercarpet"
           }
          ],
          "scattergeo": [
           {
            "marker": {
             "colorbar": {
              "outlinewidth": 0,
              "ticks": ""
             }
            },
            "type": "scattergeo"
           }
          ],
          "scattergl": [
           {
            "marker": {
             "colorbar": {
              "outlinewidth": 0,
              "ticks": ""
             }
            },
            "type": "scattergl"
           }
          ],
          "scattermap": [
           {
            "marker": {
             "colorbar": {
              "outlinewidth": 0,
              "ticks": ""
             }
            },
            "type": "scattermap"
           }
          ],
          "scattermapbox": [
           {
            "marker": {
             "colorbar": {
              "outlinewidth": 0,
              "ticks": ""
             }
            },
            "type": "scattermapbox"
           }
          ],
          "scatterpolar": [
           {
            "marker": {
             "colorbar": {
              "outlinewidth": 0,
              "ticks": ""
             }
            },
            "type": "scatterpolar"
           }
          ],
          "scatterpolargl": [
           {
            "marker": {
             "colorbar": {
              "outlinewidth": 0,
              "ticks": ""
             }
            },
            "type": "scatterpolargl"
           }
          ],
          "scatterternary": [
           {
            "marker": {
             "colorbar": {
              "outlinewidth": 0,
              "ticks": ""
             }
            },
            "type": "scatterternary"
           }
          ],
          "surface": [
           {
            "colorbar": {
             "outlinewidth": 0,
             "ticks": ""
            },
            "colorscale": [
             [
              0,
              "#0d0887"
             ],
             [
              0.1111111111111111,
              "#46039f"
             ],
             [
              0.2222222222222222,
              "#7201a8"
             ],
             [
              0.3333333333333333,
              "#9c179e"
             ],
             [
              0.4444444444444444,
              "#bd3786"
             ],
             [
              0.5555555555555556,
              "#d8576b"
             ],
             [
              0.6666666666666666,
              "#ed7953"
             ],
             [
              0.7777777777777778,
              "#fb9f3a"
             ],
             [
              0.8888888888888888,
              "#fdca26"
             ],
             [
              1,
              "#f0f921"
             ]
            ],
            "type": "surface"
           }
          ],
          "table": [
           {
            "cells": {
             "fill": {
              "color": "#EBF0F8"
             },
             "line": {
              "color": "white"
             }
            },
            "header": {
             "fill": {
              "color": "#C8D4E3"
             },
             "line": {
              "color": "white"
             }
            },
            "type": "table"
           }
          ]
         },
         "layout": {
          "annotationdefaults": {
           "arrowcolor": "#2a3f5f",
           "arrowhead": 0,
           "arrowwidth": 1
          },
          "autotypenumbers": "strict",
          "coloraxis": {
           "colorbar": {
            "outlinewidth": 0,
            "ticks": ""
           }
          },
          "colorscale": {
           "diverging": [
            [
             0,
             "#8e0152"
            ],
            [
             0.1,
             "#c51b7d"
            ],
            [
             0.2,
             "#de77ae"
            ],
            [
             0.3,
             "#f1b6da"
            ],
            [
             0.4,
             "#fde0ef"
            ],
            [
             0.5,
             "#f7f7f7"
            ],
            [
             0.6,
             "#e6f5d0"
            ],
            [
             0.7,
             "#b8e186"
            ],
            [
             0.8,
             "#7fbc41"
            ],
            [
             0.9,
             "#4d9221"
            ],
            [
             1,
             "#276419"
            ]
           ],
           "sequential": [
            [
             0,
             "#0d0887"
            ],
            [
             0.1111111111111111,
             "#46039f"
            ],
            [
             0.2222222222222222,
             "#7201a8"
            ],
            [
             0.3333333333333333,
             "#9c179e"
            ],
            [
             0.4444444444444444,
             "#bd3786"
            ],
            [
             0.5555555555555556,
             "#d8576b"
            ],
            [
             0.6666666666666666,
             "#ed7953"
            ],
            [
             0.7777777777777778,
             "#fb9f3a"
            ],
            [
             0.8888888888888888,
             "#fdca26"
            ],
            [
             1,
             "#f0f921"
            ]
           ],
           "sequentialminus": [
            [
             0,
             "#0d0887"
            ],
            [
             0.1111111111111111,
             "#46039f"
            ],
            [
             0.2222222222222222,
             "#7201a8"
            ],
            [
             0.3333333333333333,
             "#9c179e"
            ],
            [
             0.4444444444444444,
             "#bd3786"
            ],
            [
             0.5555555555555556,
             "#d8576b"
            ],
            [
             0.6666666666666666,
             "#ed7953"
            ],
            [
             0.7777777777777778,
             "#fb9f3a"
            ],
            [
             0.8888888888888888,
             "#fdca26"
            ],
            [
             1,
             "#f0f921"
            ]
           ]
          },
          "colorway": [
           "#636efa",
           "#EF553B",
           "#00cc96",
           "#ab63fa",
           "#FFA15A",
           "#19d3f3",
           "#FF6692",
           "#B6E880",
           "#FF97FF",
           "#FECB52"
          ],
          "font": {
           "color": "#2a3f5f"
          },
          "geo": {
           "bgcolor": "white",
           "lakecolor": "white",
           "landcolor": "#E5ECF6",
           "showlakes": true,
           "showland": true,
           "subunitcolor": "white"
          },
          "hoverlabel": {
           "align": "left"
          },
          "hovermode": "closest",
          "mapbox": {
           "style": "light"
          },
          "paper_bgcolor": "white",
          "plot_bgcolor": "#E5ECF6",
          "polar": {
           "angularaxis": {
            "gridcolor": "white",
            "linecolor": "white",
            "ticks": ""
           },
           "bgcolor": "#E5ECF6",
           "radialaxis": {
            "gridcolor": "white",
            "linecolor": "white",
            "ticks": ""
           }
          },
          "scene": {
           "xaxis": {
            "backgroundcolor": "#E5ECF6",
            "gridcolor": "white",
            "gridwidth": 2,
            "linecolor": "white",
            "showbackground": true,
            "ticks": "",
            "zerolinecolor": "white"
           },
           "yaxis": {
            "backgroundcolor": "#E5ECF6",
            "gridcolor": "white",
            "gridwidth": 2,
            "linecolor": "white",
            "showbackground": true,
            "ticks": "",
            "zerolinecolor": "white"
           },
           "zaxis": {
            "backgroundcolor": "#E5ECF6",
            "gridcolor": "white",
            "gridwidth": 2,
            "linecolor": "white",
            "showbackground": true,
            "ticks": "",
            "zerolinecolor": "white"
           }
          },
          "shapedefaults": {
           "line": {
            "color": "#2a3f5f"
           }
          },
          "ternary": {
           "aaxis": {
            "gridcolor": "white",
            "linecolor": "white",
            "ticks": ""
           },
           "baxis": {
            "gridcolor": "white",
            "linecolor": "white",
            "ticks": ""
           },
           "bgcolor": "#E5ECF6",
           "caxis": {
            "gridcolor": "white",
            "linecolor": "white",
            "ticks": ""
           }
          },
          "title": {
           "x": 0.05
          },
          "xaxis": {
           "automargin": true,
           "gridcolor": "white",
           "linecolor": "white",
           "ticks": "",
           "title": {
            "standoff": 15
           },
           "zerolinecolor": "white",
           "zerolinewidth": 2
          },
          "yaxis": {
           "automargin": true,
           "gridcolor": "white",
           "linecolor": "white",
           "ticks": "",
           "title": {
            "standoff": 15
           },
           "zerolinecolor": "white",
           "zerolinewidth": 2
          }
         }
        },
        "width": 1000
       }
      }
     },
     "metadata": {},
     "output_type": "display_data"
    }
   ],
   "source": [
    "fig_alpha_gamma = model.plot_loglikelihood(\"alpha\", \"gamma\", 0.01, 0.99, 0.01, 10.0, n = 100, colorscale = 'Inferno')\n",
    "fig_alpha_phi1 = model.plot_loglikelihood(\"alpha\", \"phi1\", 0.01, 0.99, 0.01, 10.0, n = 100, colorscale = 'Inferno')\n",
    "fig_gamma_phi1 = model.plot_loglikelihood(\"gamma\", \"phi1\", 0.01, 0.99, 0.01, 10.0, n = 100, colorscale = 'Inferno')\n",
    "fig_phi1_phi2 = model.plot_loglikelihood(\"phi1\", \"phi1\", 0.01, 0.99, 0.01, 10.0, n = 100, colorscale = 'Inferno')\n",
    "\n",
    "# figs = [fig_alpha_gamma, fig_alpha_phi1, fig_gamma_phi1, fig_phi1_phi2]\n",
    "figs = [fig_alpha_gamma, fig_alpha_phi1, fig_alpha_phi1, fig_gamma_phi1]\n",
    "\n",
    "plot_grid_3d(figs, nrows = 2, ncols = 2, figsize = (12,8))"
   ]
  },
  {
   "cell_type": "code",
   "execution_count": 89,
   "id": "c3cf484d",
   "metadata": {},
   "outputs": [
    {
     "name": "stdout",
     "output_type": "stream",
     "text": [
      "1 1\n",
      "2 1\n"
     ]
    },
    {
     "ename": "Exception",
     "evalue": "The (row, col) pair sent is out of range. Use Figure.print_grid to view the subplot grid. ",
     "output_type": "error",
     "traceback": [
      "\u001b[0;31m---------------------------------------------------------------------------\u001b[0m",
      "\u001b[0;31mIndexError\u001b[0m                                Traceback (most recent call last)",
      "File \u001b[0;32m~/.pyenv/versions/3.10.17/lib/python3.10/site-packages/plotly/_subplots.py:1384\u001b[0m, in \u001b[0;36m_set_trace_grid_reference\u001b[0;34m(trace, layout, grid_ref, row, col, secondary_y)\u001b[0m\n\u001b[1;32m   1383\u001b[0m \u001b[38;5;28;01mtry\u001b[39;00m:\n\u001b[0;32m-> 1384\u001b[0m     subplot_refs \u001b[38;5;241m=\u001b[39m \u001b[43mgrid_ref\u001b[49m\u001b[43m[\u001b[49m\u001b[43mrow\u001b[49m\u001b[43m \u001b[49m\u001b[38;5;241;43m-\u001b[39;49m\u001b[43m \u001b[49m\u001b[38;5;241;43m1\u001b[39;49m\u001b[43m]\u001b[49m[col \u001b[38;5;241m-\u001b[39m \u001b[38;5;241m1\u001b[39m]\n\u001b[1;32m   1385\u001b[0m \u001b[38;5;28;01mexcept\u001b[39;00m \u001b[38;5;167;01mIndexError\u001b[39;00m:\n",
      "\u001b[0;31mIndexError\u001b[0m: list index out of range",
      "\nDuring handling of the above exception, another exception occurred:\n",
      "\u001b[0;31mException\u001b[0m                                 Traceback (most recent call last)",
      "Cell \u001b[0;32mIn[89], line 5\u001b[0m\n\u001b[1;32m      2\u001b[0m fig_alpha_phi1 \u001b[38;5;241m=\u001b[39m model\u001b[38;5;241m.\u001b[39mplot_loglikelihood(\u001b[38;5;124m\"\u001b[39m\u001b[38;5;124malpha\u001b[39m\u001b[38;5;124m\"\u001b[39m, \u001b[38;5;124m\"\u001b[39m\u001b[38;5;124mphi1\u001b[39m\u001b[38;5;124m\"\u001b[39m, \u001b[38;5;241m0.01\u001b[39m, \u001b[38;5;241m0.99\u001b[39m, \u001b[38;5;241m0.01\u001b[39m, \u001b[38;5;241m10.0\u001b[39m, n \u001b[38;5;241m=\u001b[39m \u001b[38;5;241m100\u001b[39m, colorscale \u001b[38;5;241m=\u001b[39m \u001b[38;5;124m'\u001b[39m\u001b[38;5;124mInferno\u001b[39m\u001b[38;5;124m'\u001b[39m)\n\u001b[1;32m      3\u001b[0m figs \u001b[38;5;241m=\u001b[39m [fig_alpha_gamma, fig_alpha_phi1]\n\u001b[0;32m----> 5\u001b[0m \u001b[43mplot_grid_3d\u001b[49m\u001b[43m(\u001b[49m\u001b[43mfigs\u001b[49m\u001b[43m,\u001b[49m\u001b[43m \u001b[49m\u001b[43mnrows\u001b[49m\u001b[43m \u001b[49m\u001b[38;5;241;43m=\u001b[39;49m\u001b[43m \u001b[49m\u001b[38;5;241;43m1\u001b[39;49m\u001b[43m,\u001b[49m\u001b[43m \u001b[49m\u001b[43mncols\u001b[49m\u001b[43m \u001b[49m\u001b[38;5;241;43m=\u001b[39;49m\u001b[43m \u001b[49m\u001b[38;5;241;43m2\u001b[39;49m\u001b[43m,\u001b[49m\u001b[43m \u001b[49m\u001b[43mfigsize\u001b[49m\u001b[43m \u001b[49m\u001b[38;5;241;43m=\u001b[39;49m\u001b[43m \u001b[49m\u001b[43m(\u001b[49m\u001b[38;5;241;43m12\u001b[39;49m\u001b[43m,\u001b[49m\u001b[38;5;241;43m8\u001b[39;49m\u001b[43m)\u001b[49m\u001b[43m)\u001b[49m\n",
      "Cell \u001b[0;32mIn[88], line 27\u001b[0m, in \u001b[0;36mplot_grid_3d\u001b[0;34m(figs, nrows, ncols, figsize)\u001b[0m\n\u001b[1;32m     17\u001b[0m     \u001b[38;5;28;01mif\u001b[39;00m \u001b[38;5;28misinstance\u001b[39m(trace, go\u001b[38;5;241m.\u001b[39mSurface):\n\u001b[1;32m     18\u001b[0m         trace\u001b[38;5;241m.\u001b[39mupdate(\n\u001b[1;32m     19\u001b[0m             showscale\u001b[38;5;241m=\u001b[39m\u001b[38;5;28;01mTrue\u001b[39;00m,\n\u001b[1;32m     20\u001b[0m             colorbar\u001b[38;5;241m=\u001b[39m\u001b[38;5;28mdict\u001b[39m(\n\u001b[0;32m   (...)\u001b[0m\n\u001b[1;32m     25\u001b[0m             )\n\u001b[1;32m     26\u001b[0m         )\n\u001b[0;32m---> 27\u001b[0m     \u001b[43mfig\u001b[49m\u001b[38;5;241;43m.\u001b[39;49m\u001b[43madd_trace\u001b[49m\u001b[43m(\u001b[49m\u001b[43mtrace\u001b[49m\u001b[43m,\u001b[49m\u001b[43m \u001b[49m\u001b[43mrow\u001b[49m\u001b[43m \u001b[49m\u001b[38;5;241;43m=\u001b[39;49m\u001b[43m \u001b[49m\u001b[43mi\u001b[49m\u001b[43m,\u001b[49m\u001b[43m \u001b[49m\u001b[43mcol\u001b[49m\u001b[43m \u001b[49m\u001b[38;5;241;43m=\u001b[39;49m\u001b[43m \u001b[49m\u001b[43mj\u001b[49m\u001b[43m)\u001b[49m\n\u001b[1;32m     30\u001b[0m i \u001b[38;5;241m+\u001b[39m\u001b[38;5;241m=\u001b[39m \u001b[38;5;241m1\u001b[39m\n\u001b[1;32m     31\u001b[0m \u001b[38;5;28;01mif\u001b[39;00m((i\u001b[38;5;241m-\u001b[39m\u001b[38;5;241m1\u001b[39m) \u001b[38;5;241m%\u001b[39m ncols \u001b[38;5;241m==\u001b[39m \u001b[38;5;241m0\u001b[39m):\n",
      "File \u001b[0;32m~/.pyenv/versions/3.10.17/lib/python3.10/site-packages/plotly/graph_objs/_figure.py:912\u001b[0m, in \u001b[0;36mFigure.add_trace\u001b[0;34m(self, trace, row, col, secondary_y, exclude_empty_subplots)\u001b[0m\n\u001b[1;32m    837\u001b[0m \u001b[38;5;28;01mdef\u001b[39;00m\u001b[38;5;250m \u001b[39m\u001b[38;5;21madd_trace\u001b[39m(\n\u001b[1;32m    838\u001b[0m     \u001b[38;5;28mself\u001b[39m, trace, row\u001b[38;5;241m=\u001b[39m\u001b[38;5;28;01mNone\u001b[39;00m, col\u001b[38;5;241m=\u001b[39m\u001b[38;5;28;01mNone\u001b[39;00m, secondary_y\u001b[38;5;241m=\u001b[39m\u001b[38;5;28;01mNone\u001b[39;00m, exclude_empty_subplots\u001b[38;5;241m=\u001b[39m\u001b[38;5;28;01mFalse\u001b[39;00m\n\u001b[1;32m    839\u001b[0m ) \u001b[38;5;241m-\u001b[39m\u001b[38;5;241m>\u001b[39m \u001b[38;5;124m\"\u001b[39m\u001b[38;5;124mFigure\u001b[39m\u001b[38;5;124m\"\u001b[39m:\n\u001b[1;32m    840\u001b[0m \u001b[38;5;250m    \u001b[39m\u001b[38;5;124;03m\"\"\"\u001b[39;00m\n\u001b[1;32m    841\u001b[0m \n\u001b[1;32m    842\u001b[0m \u001b[38;5;124;03m    Add a trace to the figure\u001b[39;00m\n\u001b[0;32m   (...)\u001b[0m\n\u001b[1;32m    910\u001b[0m \n\u001b[1;32m    911\u001b[0m \u001b[38;5;124;03m    \"\"\"\u001b[39;00m\n\u001b[0;32m--> 912\u001b[0m     \u001b[38;5;28;01mreturn\u001b[39;00m \u001b[38;5;28;43msuper\u001b[39;49m\u001b[43m(\u001b[49m\u001b[43mFigure\u001b[49m\u001b[43m,\u001b[49m\u001b[43m \u001b[49m\u001b[38;5;28;43mself\u001b[39;49m\u001b[43m)\u001b[49m\u001b[38;5;241;43m.\u001b[39;49m\u001b[43madd_trace\u001b[49m\u001b[43m(\u001b[49m\n\u001b[1;32m    913\u001b[0m \u001b[43m        \u001b[49m\u001b[43mtrace\u001b[49m\u001b[43m,\u001b[49m\u001b[43m \u001b[49m\u001b[43mrow\u001b[49m\u001b[43m,\u001b[49m\u001b[43m \u001b[49m\u001b[43mcol\u001b[49m\u001b[43m,\u001b[49m\u001b[43m \u001b[49m\u001b[43msecondary_y\u001b[49m\u001b[43m,\u001b[49m\u001b[43m \u001b[49m\u001b[43mexclude_empty_subplots\u001b[49m\n\u001b[1;32m    914\u001b[0m \u001b[43m    \u001b[49m\u001b[43m)\u001b[49m\n",
      "File \u001b[0;32m~/.pyenv/versions/3.10.17/lib/python3.10/site-packages/plotly/basedatatypes.py:2107\u001b[0m, in \u001b[0;36mBaseFigure.add_trace\u001b[0;34m(self, trace, row, col, secondary_y, exclude_empty_subplots)\u001b[0m\n\u001b[1;32m   2098\u001b[0m         \u001b[38;5;28mself\u001b[39m\u001b[38;5;241m.\u001b[39madd_trace(\n\u001b[1;32m   2099\u001b[0m             trace,\n\u001b[1;32m   2100\u001b[0m             row\u001b[38;5;241m=\u001b[39mr,\n\u001b[0;32m   (...)\u001b[0m\n\u001b[1;32m   2103\u001b[0m             exclude_empty_subplots\u001b[38;5;241m=\u001b[39mexclude_empty_subplots,\n\u001b[1;32m   2104\u001b[0m         )\n\u001b[1;32m   2105\u001b[0m     \u001b[38;5;28;01mreturn\u001b[39;00m \u001b[38;5;28mself\u001b[39m\n\u001b[0;32m-> 2107\u001b[0m \u001b[38;5;28;01mreturn\u001b[39;00m \u001b[38;5;28;43mself\u001b[39;49m\u001b[38;5;241;43m.\u001b[39;49m\u001b[43madd_traces\u001b[49m\u001b[43m(\u001b[49m\n\u001b[1;32m   2108\u001b[0m \u001b[43m    \u001b[49m\u001b[43mdata\u001b[49m\u001b[38;5;241;43m=\u001b[39;49m\u001b[43m[\u001b[49m\u001b[43mtrace\u001b[49m\u001b[43m]\u001b[49m\u001b[43m,\u001b[49m\n\u001b[1;32m   2109\u001b[0m \u001b[43m    \u001b[49m\u001b[43mrows\u001b[49m\u001b[38;5;241;43m=\u001b[39;49m\u001b[43m[\u001b[49m\u001b[43mrow\u001b[49m\u001b[43m]\u001b[49m\u001b[43m \u001b[49m\u001b[38;5;28;43;01mif\u001b[39;49;00m\u001b[43m \u001b[49m\u001b[43mrow\u001b[49m\u001b[43m \u001b[49m\u001b[38;5;129;43;01mis\u001b[39;49;00m\u001b[43m \u001b[49m\u001b[38;5;129;43;01mnot\u001b[39;49;00m\u001b[43m \u001b[49m\u001b[38;5;28;43;01mNone\u001b[39;49;00m\u001b[43m \u001b[49m\u001b[38;5;28;43;01melse\u001b[39;49;00m\u001b[43m \u001b[49m\u001b[38;5;28;43;01mNone\u001b[39;49;00m\u001b[43m,\u001b[49m\n\u001b[1;32m   2110\u001b[0m \u001b[43m    \u001b[49m\u001b[43mcols\u001b[49m\u001b[38;5;241;43m=\u001b[39;49m\u001b[43m[\u001b[49m\u001b[43mcol\u001b[49m\u001b[43m]\u001b[49m\u001b[43m \u001b[49m\u001b[38;5;28;43;01mif\u001b[39;49;00m\u001b[43m \u001b[49m\u001b[43mcol\u001b[49m\u001b[43m \u001b[49m\u001b[38;5;129;43;01mis\u001b[39;49;00m\u001b[43m \u001b[49m\u001b[38;5;129;43;01mnot\u001b[39;49;00m\u001b[43m \u001b[49m\u001b[38;5;28;43;01mNone\u001b[39;49;00m\u001b[43m \u001b[49m\u001b[38;5;28;43;01melse\u001b[39;49;00m\u001b[43m \u001b[49m\u001b[38;5;28;43;01mNone\u001b[39;49;00m\u001b[43m,\u001b[49m\n\u001b[1;32m   2111\u001b[0m \u001b[43m    \u001b[49m\u001b[43msecondary_ys\u001b[49m\u001b[38;5;241;43m=\u001b[39;49m\u001b[43m[\u001b[49m\u001b[43msecondary_y\u001b[49m\u001b[43m]\u001b[49m\u001b[43m \u001b[49m\u001b[38;5;28;43;01mif\u001b[39;49;00m\u001b[43m \u001b[49m\u001b[43msecondary_y\u001b[49m\u001b[43m \u001b[49m\u001b[38;5;129;43;01mis\u001b[39;49;00m\u001b[43m \u001b[49m\u001b[38;5;129;43;01mnot\u001b[39;49;00m\u001b[43m \u001b[49m\u001b[38;5;28;43;01mNone\u001b[39;49;00m\u001b[43m \u001b[49m\u001b[38;5;28;43;01melse\u001b[39;49;00m\u001b[43m \u001b[49m\u001b[38;5;28;43;01mNone\u001b[39;49;00m\u001b[43m,\u001b[49m\n\u001b[1;32m   2112\u001b[0m \u001b[43m    \u001b[49m\u001b[43mexclude_empty_subplots\u001b[49m\u001b[38;5;241;43m=\u001b[39;49m\u001b[43mexclude_empty_subplots\u001b[49m\u001b[43m,\u001b[49m\n\u001b[1;32m   2113\u001b[0m \u001b[43m\u001b[49m\u001b[43m)\u001b[49m\n",
      "File \u001b[0;32m~/.pyenv/versions/3.10.17/lib/python3.10/site-packages/plotly/graph_objs/_figure.py:992\u001b[0m, in \u001b[0;36mFigure.add_traces\u001b[0;34m(self, data, rows, cols, secondary_ys, exclude_empty_subplots)\u001b[0m\n\u001b[1;32m    916\u001b[0m \u001b[38;5;28;01mdef\u001b[39;00m\u001b[38;5;250m \u001b[39m\u001b[38;5;21madd_traces\u001b[39m(\n\u001b[1;32m    917\u001b[0m     \u001b[38;5;28mself\u001b[39m,\n\u001b[1;32m    918\u001b[0m     data,\n\u001b[0;32m   (...)\u001b[0m\n\u001b[1;32m    922\u001b[0m     exclude_empty_subplots\u001b[38;5;241m=\u001b[39m\u001b[38;5;28;01mFalse\u001b[39;00m,\n\u001b[1;32m    923\u001b[0m ) \u001b[38;5;241m-\u001b[39m\u001b[38;5;241m>\u001b[39m \u001b[38;5;124m\"\u001b[39m\u001b[38;5;124mFigure\u001b[39m\u001b[38;5;124m\"\u001b[39m:\n\u001b[1;32m    924\u001b[0m \u001b[38;5;250m    \u001b[39m\u001b[38;5;124;03m\"\"\"\u001b[39;00m\n\u001b[1;32m    925\u001b[0m \n\u001b[1;32m    926\u001b[0m \u001b[38;5;124;03m    Add traces to the figure\u001b[39;00m\n\u001b[0;32m   (...)\u001b[0m\n\u001b[1;32m    990\u001b[0m \n\u001b[1;32m    991\u001b[0m \u001b[38;5;124;03m    \"\"\"\u001b[39;00m\n\u001b[0;32m--> 992\u001b[0m     \u001b[38;5;28;01mreturn\u001b[39;00m \u001b[38;5;28;43msuper\u001b[39;49m\u001b[43m(\u001b[49m\u001b[43mFigure\u001b[49m\u001b[43m,\u001b[49m\u001b[43m \u001b[49m\u001b[38;5;28;43mself\u001b[39;49m\u001b[43m)\u001b[49m\u001b[38;5;241;43m.\u001b[39;49m\u001b[43madd_traces\u001b[49m\u001b[43m(\u001b[49m\n\u001b[1;32m    993\u001b[0m \u001b[43m        \u001b[49m\u001b[43mdata\u001b[49m\u001b[43m,\u001b[49m\u001b[43m \u001b[49m\u001b[43mrows\u001b[49m\u001b[43m,\u001b[49m\u001b[43m \u001b[49m\u001b[43mcols\u001b[49m\u001b[43m,\u001b[49m\u001b[43m \u001b[49m\u001b[43msecondary_ys\u001b[49m\u001b[43m,\u001b[49m\u001b[43m \u001b[49m\u001b[43mexclude_empty_subplots\u001b[49m\n\u001b[1;32m    994\u001b[0m \u001b[43m    \u001b[49m\u001b[43m)\u001b[49m\n",
      "File \u001b[0;32m~/.pyenv/versions/3.10.17/lib/python3.10/site-packages/plotly/basedatatypes.py:2237\u001b[0m, in \u001b[0;36mBaseFigure.add_traces\u001b[0;34m(self, data, rows, cols, secondary_ys, exclude_empty_subplots)\u001b[0m\n\u001b[1;32m   2235\u001b[0m \u001b[38;5;28;01mif\u001b[39;00m rows \u001b[38;5;129;01mis\u001b[39;00m \u001b[38;5;129;01mnot\u001b[39;00m \u001b[38;5;28;01mNone\u001b[39;00m:\n\u001b[1;32m   2236\u001b[0m     \u001b[38;5;28;01mfor\u001b[39;00m trace, row, col, secondary_y \u001b[38;5;129;01min\u001b[39;00m \u001b[38;5;28mzip\u001b[39m(data, rows, cols, secondary_ys):\n\u001b[0;32m-> 2237\u001b[0m         \u001b[38;5;28;43mself\u001b[39;49m\u001b[38;5;241;43m.\u001b[39;49m\u001b[43m_set_trace_grid_position\u001b[49m\u001b[43m(\u001b[49m\u001b[43mtrace\u001b[49m\u001b[43m,\u001b[49m\u001b[43m \u001b[49m\u001b[43mrow\u001b[49m\u001b[43m,\u001b[49m\u001b[43m \u001b[49m\u001b[43mcol\u001b[49m\u001b[43m,\u001b[49m\u001b[43m \u001b[49m\u001b[43msecondary_y\u001b[49m\u001b[43m)\u001b[49m\n\u001b[1;32m   2239\u001b[0m \u001b[38;5;28;01mif\u001b[39;00m exclude_empty_subplots:\n\u001b[1;32m   2240\u001b[0m     data \u001b[38;5;241m=\u001b[39m \u001b[38;5;28mlist\u001b[39m(\n\u001b[1;32m   2241\u001b[0m         \u001b[38;5;28mfilter\u001b[39m(\n\u001b[1;32m   2242\u001b[0m             \u001b[38;5;28;01mlambda\u001b[39;00m trace: \u001b[38;5;28mself\u001b[39m\u001b[38;5;241m.\u001b[39m_subplot_not_empty(\n\u001b[0;32m   (...)\u001b[0m\n\u001b[1;32m   2246\u001b[0m         )\n\u001b[1;32m   2247\u001b[0m     )\n",
      "File \u001b[0;32m~/.pyenv/versions/3.10.17/lib/python3.10/site-packages/plotly/basedatatypes.py:2329\u001b[0m, in \u001b[0;36mBaseFigure._set_trace_grid_position\u001b[0;34m(self, trace, row, col, secondary_y)\u001b[0m\n\u001b[1;32m   2326\u001b[0m \u001b[38;5;28;01mfrom\u001b[39;00m\u001b[38;5;250m \u001b[39m\u001b[38;5;21;01mplotly\u001b[39;00m\u001b[38;5;21;01m.\u001b[39;00m\u001b[38;5;21;01m_subplots\u001b[39;00m\u001b[38;5;250m \u001b[39m\u001b[38;5;28;01mimport\u001b[39;00m _set_trace_grid_reference\n\u001b[1;32m   2328\u001b[0m grid_ref \u001b[38;5;241m=\u001b[39m \u001b[38;5;28mself\u001b[39m\u001b[38;5;241m.\u001b[39m_validate_get_grid_ref()\n\u001b[0;32m-> 2329\u001b[0m \u001b[38;5;28;01mreturn\u001b[39;00m \u001b[43m_set_trace_grid_reference\u001b[49m\u001b[43m(\u001b[49m\n\u001b[1;32m   2330\u001b[0m \u001b[43m    \u001b[49m\u001b[43mtrace\u001b[49m\u001b[43m,\u001b[49m\u001b[43m \u001b[49m\u001b[38;5;28;43mself\u001b[39;49m\u001b[38;5;241;43m.\u001b[39;49m\u001b[43mlayout\u001b[49m\u001b[43m,\u001b[49m\u001b[43m \u001b[49m\u001b[43mgrid_ref\u001b[49m\u001b[43m,\u001b[49m\u001b[43m \u001b[49m\u001b[43mrow\u001b[49m\u001b[43m,\u001b[49m\u001b[43m \u001b[49m\u001b[43mcol\u001b[49m\u001b[43m,\u001b[49m\u001b[43m \u001b[49m\u001b[43msecondary_y\u001b[49m\n\u001b[1;32m   2331\u001b[0m \u001b[43m\u001b[49m\u001b[43m)\u001b[49m\n",
      "File \u001b[0;32m~/.pyenv/versions/3.10.17/lib/python3.10/site-packages/plotly/_subplots.py:1386\u001b[0m, in \u001b[0;36m_set_trace_grid_reference\u001b[0;34m(trace, layout, grid_ref, row, col, secondary_y)\u001b[0m\n\u001b[1;32m   1384\u001b[0m         subplot_refs \u001b[38;5;241m=\u001b[39m grid_ref[row \u001b[38;5;241m-\u001b[39m \u001b[38;5;241m1\u001b[39m][col \u001b[38;5;241m-\u001b[39m \u001b[38;5;241m1\u001b[39m]\n\u001b[1;32m   1385\u001b[0m     \u001b[38;5;28;01mexcept\u001b[39;00m \u001b[38;5;167;01mIndexError\u001b[39;00m:\n\u001b[0;32m-> 1386\u001b[0m         \u001b[38;5;28;01mraise\u001b[39;00m \u001b[38;5;167;01mException\u001b[39;00m(\n\u001b[1;32m   1387\u001b[0m             \u001b[38;5;124m\"\u001b[39m\u001b[38;5;124mThe (row, col) pair sent is out of \u001b[39m\u001b[38;5;124m\"\u001b[39m\n\u001b[1;32m   1388\u001b[0m             \u001b[38;5;124m\"\u001b[39m\u001b[38;5;124mrange. Use Figure.print_grid to view the \u001b[39m\u001b[38;5;124m\"\u001b[39m\n\u001b[1;32m   1389\u001b[0m             \u001b[38;5;124m\"\u001b[39m\u001b[38;5;124msubplot grid. \u001b[39m\u001b[38;5;124m\"\u001b[39m\n\u001b[1;32m   1390\u001b[0m         )\n\u001b[1;32m   1392\u001b[0m     \u001b[38;5;28;01mif\u001b[39;00m \u001b[38;5;129;01mnot\u001b[39;00m subplot_refs:\n\u001b[1;32m   1393\u001b[0m         \u001b[38;5;28;01mraise\u001b[39;00m \u001b[38;5;167;01mValueError\u001b[39;00m(\n\u001b[1;32m   1394\u001b[0m \u001b[38;5;250m            \u001b[39m\u001b[38;5;124;03m\"\"\"\u001b[39;00m\n\u001b[1;32m   1395\u001b[0m \u001b[38;5;124;03mNo subplot specified at grid position ({row}, {col})\"\"\"\u001b[39;00m\u001b[38;5;241m.\u001b[39mformat(\n\u001b[1;32m   1396\u001b[0m                 row\u001b[38;5;241m=\u001b[39mrow, col\u001b[38;5;241m=\u001b[39mcol\n\u001b[1;32m   1397\u001b[0m             )\n\u001b[1;32m   1398\u001b[0m         )\n",
      "\u001b[0;31mException\u001b[0m: The (row, col) pair sent is out of range. Use Figure.print_grid to view the subplot grid. "
     ]
    }
   ],
   "source": [
    "fig_alpha_gamma = model.plot_loglikelihood(\"alpha\", \"gamma\", 0.01, 0.99, 0.01, 10.0, n = 100, colorscale = 'Inferno')\n",
    "fig_alpha_phi1 = model.plot_loglikelihood(\"alpha\", \"phi1\", 0.01, 0.99, 0.01, 10.0, n = 100, colorscale = 'Inferno')\n",
    "figs = [fig_alpha_gamma, fig_alpha_phi1]\n",
    "\n",
    "plot_grid_3d(figs, nrows = 1, ncols = 2, figsize = (12,8))"
   ]
  },
  {
   "cell_type": "code",
   "execution_count": 114,
   "id": "5aa6e26a",
   "metadata": {},
   "outputs": [
    {
     "data": {
      "application/vnd.plotly.v1+json": {
       "config": {
        "plotlyServerURL": "https://plot.ly"
       },
       "data": [
        {
         "colorscale": [
          [
           0,
           "#000004"
          ],
          [
           0.1111111111111111,
           "#1b0c41"
          ],
          [
           0.2222222222222222,
           "#4a0c6b"
          ],
          [
           0.3333333333333333,
           "#781c6d"
          ],
          [
           0.4444444444444444,
           "#a52c60"
          ],
          [
           0.5555555555555556,
           "#cf4446"
          ],
          [
           0.6666666666666666,
           "#ed6925"
          ],
          [
           0.7777777777777778,
           "#fb9b06"
          ],
          [
           0.8888888888888888,
           "#f7d13d"
          ],
          [
           1,
           "#fcffa4"
          ]
         ],
         "scene": "scene",
         "type": "surface",
         "x": {
          "bdata": "CtcjPDUDozzlGvQ8SpkiPSIlSz36sHM9aR6OPVVkoj1BqrY9LfDKPRk23z0FfPM9+eADPu8DDj7lJhg+20kiPtFsLD7HjzY+vbJAPrPVSj6p+FQ+nxtfPpU+aT6LYXM+gYR9PrvTgz425Yg+sfaNPiwIkz6nGZg+IiudPp08oj4YTqc+k1+sPg5xsT6JgrY+BJS7Pn+lwD76tsU+dcjKPvDZzz5r69Q+5vzZPmEO3z7cH+Q+VzHpPtJC7j5NVPM+yGX4PkN3/T5fRAE/HM0DP9pVBj+Y3gg/VWcLPxLwDT/QeBA/jgETP0uKFT8IExg/xpsaP4QkHT9BrR8//jUiP7y+JD96Ryc/N9ApP/RYLD+y4S4/cGoxPy3zMz/qezY/qAQ5P2aNOz8jFj4/4J5AP54nQz9csEU/GTlIP9bBSj+USk0/UtNPPw9cUj/M5FQ/im1XP0j2WT8Ff1w/wgdfP4CQYT8+GWQ/+6FmP7gqaT92s2s/NDxuP/HEcD+uTXM/bNZ1PypfeD/n53o/pHB9Pw==",
          "dtype": "f4"
         },
         "y": {
          "bdata": "CtcjPE4k4z3e5lg+yh2gPiXI0z5AuQM/bo4dP5tjNz/JOFE/9w1rP5Jxgj8pXI8/wEacP1cxqT/tG7Y/hAbDPxvxzz+y29w/ScbpP9+w9j+7zQFAB0MIQFK4DkCdLRVA6aIbQDQYIkCAjShAywIvQBZ4NUBi7TtArWJCQPnXSEBETU9Aj8JVQNs3XEAmrWJAciJpQL2Xb0AIDXZAVIJ8QNB7gUB2toRAHPGHQMEri0BnZo5ADaGRQLLblEBYFphA/lCbQKOLnkBJxqFA7wClQJU7qEA6dqtA4LCuQIbrsUArJrVA0WC4QHebu0Ac1r5AwhDCQGhLxUAOhshAs8DLQFn7zkD/NdJApHDVQEqr2EDw5dtAliDfQDtb4kDhleVAh9DoQCwL7EDSRe9AeIDyQB279UDD9fhAaTD8QA9r/0DaUgFBLfACQYCNBEHTKgZBJsgHQXhlCUHLAgtBHqAMQXE9DkHE2g9BF3gRQWkVE0G8shRBD1AWQWLtF0G1ihlBCCgbQVvFHEGtYh5BAAAgQQ==",
          "dtype": "f4"
         },
         "z": {
          "bdata": "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",
          "dtype": "f4",
          "shape": "100, 100"
         }
        },
        {
         "marker": {
          "color": "red",
          "size": 10,
          "symbol": "circle"
         },
         "mode": "markers+text",
         "scene": "scene",
         "text": [
          "True maximum"
         ],
         "textposition": "top center",
         "type": "scatter3d",
         "x": [
          0.48080021142959595
         ],
         "y": [
          0.8586330413818359
         ],
         "z": [
          -0.5718472003936768
         ]
        },
        {
         "colorscale": [
          [
           0,
           "#000004"
          ],
          [
           0.1111111111111111,
           "#1b0c41"
          ],
          [
           0.2222222222222222,
           "#4a0c6b"
          ],
          [
           0.3333333333333333,
           "#781c6d"
          ],
          [
           0.4444444444444444,
           "#a52c60"
          ],
          [
           0.5555555555555556,
           "#cf4446"
          ],
          [
           0.6666666666666666,
           "#ed6925"
          ],
          [
           0.7777777777777778,
           "#fb9b06"
          ],
          [
           0.8888888888888888,
           "#f7d13d"
          ],
          [
           1,
           "#fcffa4"
          ]
         ],
         "scene": "scene2",
         "type": "surface",
         "x": {
          "bdata": "CtcjPDUDozzlGvQ8SpkiPSIlSz36sHM9aR6OPVVkoj1BqrY9LfDKPRk23z0FfPM9+eADPu8DDj7lJhg+20kiPtFsLD7HjzY+vbJAPrPVSj6p+FQ+nxtfPpU+aT6LYXM+gYR9PrvTgz425Yg+sfaNPiwIkz6nGZg+IiudPp08oj4YTqc+k1+sPg5xsT6JgrY+BJS7Pn+lwD76tsU+dcjKPvDZzz5r69Q+5vzZPmEO3z7cH+Q+VzHpPtJC7j5NVPM+yGX4PkN3/T5fRAE/HM0DP9pVBj+Y3gg/VWcLPxLwDT/QeBA/jgETP0uKFT8IExg/xpsaP4QkHT9BrR8//jUiP7y+JD96Ryc/N9ApP/RYLD+y4S4/cGoxPy3zMz/qezY/qAQ5P2aNOz8jFj4/4J5AP54nQz9csEU/GTlIP9bBSj+USk0/UtNPPw9cUj/M5FQ/im1XP0j2WT8Ff1w/wgdfP4CQYT8+GWQ/+6FmP7gqaT92s2s/NDxuP/HEcD+uTXM/bNZ1PypfeD/n53o/pHB9Pw==",
          "dtype": "f4"
         },
         "y": {
          "bdata": "CtcjPE4k4z3e5lg+yh2gPiXI0z5AuQM/bo4dP5tjNz/JOFE/9w1rP5Jxgj8pXI8/wEacP1cxqT/tG7Y/hAbDPxvxzz+y29w/ScbpP9+w9j+7zQFAB0MIQFK4DkCdLRVA6aIbQDQYIkCAjShAywIvQBZ4NUBi7TtArWJCQPnXSEBETU9Aj8JVQNs3XEAmrWJAciJpQL2Xb0AIDXZAVIJ8QNB7gUB2toRAHPGHQMEri0BnZo5ADaGRQLLblEBYFphA/lCbQKOLnkBJxqFA7wClQJU7qEA6dqtA4LCuQIbrsUArJrVA0WC4QHebu0Ac1r5AwhDCQGhLxUAOhshAs8DLQFn7zkD/NdJApHDVQEqr2EDw5dtAliDfQDtb4kDhleVAh9DoQCwL7EDSRe9AeIDyQB279UDD9fhAaTD8QA9r/0DaUgFBLfACQYCNBEHTKgZBJsgHQXhlCUHLAgtBHqAMQXE9DkHE2g9BF3gRQWkVE0G8shRBD1AWQWLtF0G1ihlBCCgbQVvFHEGtYh5BAAAgQQ==",
          "dtype": "f4"
         },
         "z": {
          "bdata": "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",
          "dtype": "f4",
          "shape": "100, 100"
         }
        },
        {
         "marker": {
          "color": "red",
          "size": 10,
          "symbol": "circle"
         },
         "mode": "markers+text",
         "scene": "scene2",
         "text": [
          "True maximum"
         ],
         "textposition": "top center",
         "type": "scatter3d",
         "x": [
          0.48080021142959595
         ],
         "y": [
          1.515296220779419
         ],
         "z": [
          -0.5718472003936768
         ]
        }
       ],
       "layout": {
        "annotations": [
         {
          "font": {
           "size": 16
          },
          "showarrow": false,
          "text": "Profile-Loglikelihood surface (alpha x gamma)",
          "x": 0,
          "xref": "paper",
          "y": 1.05,
          "yref": "paper"
         },
         {
          "font": {
           "size": 16
          },
          "showarrow": false,
          "text": "Profile-Loglikelihood surface (alpha x phi1)",
          "x": 0.9,
          "xref": "paper",
          "y": 1.05,
          "yref": "paper"
         }
        ],
        "height": 600,
        "scene": {
         "camera": {
          "center": {
           "x": 0,
           "y": 0,
           "z": 0
          },
          "eye": {
           "x": -1.5,
           "y": -1.5,
           "z": 1.5
          },
          "up": {
           "x": 0,
           "y": 0,
           "z": 1
          }
         },
         "domain": {
          "x": [
           0,
           0.45
          ],
          "y": [
           0,
           1
          ]
         },
         "xaxis": {
          "title": {
           "text": "alpha"
          }
         },
         "yaxis": {
          "title": {
           "text": "gamma"
          }
         },
         "zaxis": {
          "title": {
           "text": "Profile-Loglikelihood"
          }
         }
        },
        "scene2": {
         "camera": {
          "center": {
           "x": 0,
           "y": 0,
           "z": 0
          },
          "eye": {
           "x": -1.5,
           "y": -1.5,
           "z": 1.5
          },
          "up": {
           "x": 0,
           "y": 0,
           "z": 1
          }
         },
         "domain": {
          "x": [
           0.55,
           1
          ],
          "y": [
           0,
           1
          ]
         },
         "xaxis": {
          "title": {
           "text": "alpha"
          }
         },
         "yaxis": {
          "title": {
           "text": "phi1"
          }
         },
         "zaxis": {
          "title": {
           "text": "Profile-Loglikelihood"
          }
         }
        },
        "template": {
         "data": {
          "bar": [
           {
            "error_x": {
             "color": "#2a3f5f"
            },
            "error_y": {
             "color": "#2a3f5f"
            },
            "marker": {
             "line": {
              "color": "#E5ECF6",
              "width": 0.5
             },
             "pattern": {
              "fillmode": "overlay",
              "size": 10,
              "solidity": 0.2
             }
            },
            "type": "bar"
           }
          ],
          "barpolar": [
           {
            "marker": {
             "line": {
              "color": "#E5ECF6",
              "width": 0.5
             },
             "pattern": {
              "fillmode": "overlay",
              "size": 10,
              "solidity": 0.2
             }
            },
            "type": "barpolar"
           }
          ],
          "carpet": [
           {
            "aaxis": {
             "endlinecolor": "#2a3f5f",
             "gridcolor": "white",
             "linecolor": "white",
             "minorgridcolor": "white",
             "startlinecolor": "#2a3f5f"
            },
            "baxis": {
             "endlinecolor": "#2a3f5f",
             "gridcolor": "white",
             "linecolor": "white",
             "minorgridcolor": "white",
             "startlinecolor": "#2a3f5f"
            },
            "type": "carpet"
           }
          ],
          "choropleth": [
           {
            "colorbar": {
             "outlinewidth": 0,
             "ticks": ""
            },
            "type": "choropleth"
           }
          ],
          "contour": [
           {
            "colorbar": {
             "outlinewidth": 0,
             "ticks": ""
            },
            "colorscale": [
             [
              0,
              "#0d0887"
             ],
             [
              0.1111111111111111,
              "#46039f"
             ],
             [
              0.2222222222222222,
              "#7201a8"
             ],
             [
              0.3333333333333333,
              "#9c179e"
             ],
             [
              0.4444444444444444,
              "#bd3786"
             ],
             [
              0.5555555555555556,
              "#d8576b"
             ],
             [
              0.6666666666666666,
              "#ed7953"
             ],
             [
              0.7777777777777778,
              "#fb9f3a"
             ],
             [
              0.8888888888888888,
              "#fdca26"
             ],
             [
              1,
              "#f0f921"
             ]
            ],
            "type": "contour"
           }
          ],
          "contourcarpet": [
           {
            "colorbar": {
             "outlinewidth": 0,
             "ticks": ""
            },
            "type": "contourcarpet"
           }
          ],
          "heatmap": [
           {
            "colorbar": {
             "outlinewidth": 0,
             "ticks": ""
            },
            "colorscale": [
             [
              0,
              "#0d0887"
             ],
             [
              0.1111111111111111,
              "#46039f"
             ],
             [
              0.2222222222222222,
              "#7201a8"
             ],
             [
              0.3333333333333333,
              "#9c179e"
             ],
             [
              0.4444444444444444,
              "#bd3786"
             ],
             [
              0.5555555555555556,
              "#d8576b"
             ],
             [
              0.6666666666666666,
              "#ed7953"
             ],
             [
              0.7777777777777778,
              "#fb9f3a"
             ],
             [
              0.8888888888888888,
              "#fdca26"
             ],
             [
              1,
              "#f0f921"
             ]
            ],
            "type": "heatmap"
           }
          ],
          "histogram": [
           {
            "marker": {
             "pattern": {
              "fillmode": "overlay",
              "size": 10,
              "solidity": 0.2
             }
            },
            "type": "histogram"
           }
          ],
          "histogram2d": [
           {
            "colorbar": {
             "outlinewidth": 0,
             "ticks": ""
            },
            "colorscale": [
             [
              0,
              "#0d0887"
             ],
             [
              0.1111111111111111,
              "#46039f"
             ],
             [
              0.2222222222222222,
              "#7201a8"
             ],
             [
              0.3333333333333333,
              "#9c179e"
             ],
             [
              0.4444444444444444,
              "#bd3786"
             ],
             [
              0.5555555555555556,
              "#d8576b"
             ],
             [
              0.6666666666666666,
              "#ed7953"
             ],
             [
              0.7777777777777778,
              "#fb9f3a"
             ],
             [
              0.8888888888888888,
              "#fdca26"
             ],
             [
              1,
              "#f0f921"
             ]
            ],
            "type": "histogram2d"
           }
          ],
          "histogram2dcontour": [
           {
            "colorbar": {
             "outlinewidth": 0,
             "ticks": ""
            },
            "colorscale": [
             [
              0,
              "#0d0887"
             ],
             [
              0.1111111111111111,
              "#46039f"
             ],
             [
              0.2222222222222222,
              "#7201a8"
             ],
             [
              0.3333333333333333,
              "#9c179e"
             ],
             [
              0.4444444444444444,
              "#bd3786"
             ],
             [
              0.5555555555555556,
              "#d8576b"
             ],
             [
              0.6666666666666666,
              "#ed7953"
             ],
             [
              0.7777777777777778,
              "#fb9f3a"
             ],
             [
              0.8888888888888888,
              "#fdca26"
             ],
             [
              1,
              "#f0f921"
             ]
            ],
            "type": "histogram2dcontour"
           }
          ],
          "mesh3d": [
           {
            "colorbar": {
             "outlinewidth": 0,
             "ticks": ""
            },
            "type": "mesh3d"
           }
          ],
          "parcoords": [
           {
            "line": {
             "colorbar": {
              "outlinewidth": 0,
              "ticks": ""
             }
            },
            "type": "parcoords"
           }
          ],
          "pie": [
           {
            "automargin": true,
            "type": "pie"
           }
          ],
          "scatter": [
           {
            "fillpattern": {
             "fillmode": "overlay",
             "size": 10,
             "solidity": 0.2
            },
            "type": "scatter"
           }
          ],
          "scatter3d": [
           {
            "line": {
             "colorbar": {
              "outlinewidth": 0,
              "ticks": ""
             }
            },
            "marker": {
             "colorbar": {
              "outlinewidth": 0,
              "ticks": ""
             }
            },
            "type": "scatter3d"
           }
          ],
          "scattercarpet": [
           {
            "marker": {
             "colorbar": {
              "outlinewidth": 0,
              "ticks": ""
             }
            },
            "type": "scattercarpet"
           }
          ],
          "scattergeo": [
           {
            "marker": {
             "colorbar": {
              "outlinewidth": 0,
              "ticks": ""
             }
            },
            "type": "scattergeo"
           }
          ],
          "scattergl": [
           {
            "marker": {
             "colorbar": {
              "outlinewidth": 0,
              "ticks": ""
             }
            },
            "type": "scattergl"
           }
          ],
          "scattermap": [
           {
            "marker": {
             "colorbar": {
              "outlinewidth": 0,
              "ticks": ""
             }
            },
            "type": "scattermap"
           }
          ],
          "scattermapbox": [
           {
            "marker": {
             "colorbar": {
              "outlinewidth": 0,
              "ticks": ""
             }
            },
            "type": "scattermapbox"
           }
          ],
          "scatterpolar": [
           {
            "marker": {
             "colorbar": {
              "outlinewidth": 0,
              "ticks": ""
             }
            },
            "type": "scatterpolar"
           }
          ],
          "scatterpolargl": [
           {
            "marker": {
             "colorbar": {
              "outlinewidth": 0,
              "ticks": ""
             }
            },
            "type": "scatterpolargl"
           }
          ],
          "scatterternary": [
           {
            "marker": {
             "colorbar": {
              "outlinewidth": 0,
              "ticks": ""
             }
            },
            "type": "scatterternary"
           }
          ],
          "surface": [
           {
            "colorbar": {
             "outlinewidth": 0,
             "ticks": ""
            },
            "colorscale": [
             [
              0,
              "#0d0887"
             ],
             [
              0.1111111111111111,
              "#46039f"
             ],
             [
              0.2222222222222222,
              "#7201a8"
             ],
             [
              0.3333333333333333,
              "#9c179e"
             ],
             [
              0.4444444444444444,
              "#bd3786"
             ],
             [
              0.5555555555555556,
              "#d8576b"
             ],
             [
              0.6666666666666666,
              "#ed7953"
             ],
             [
              0.7777777777777778,
              "#fb9f3a"
             ],
             [
              0.8888888888888888,
              "#fdca26"
             ],
             [
              1,
              "#f0f921"
             ]
            ],
            "type": "surface"
           }
          ],
          "table": [
           {
            "cells": {
             "fill": {
              "color": "#EBF0F8"
             },
             "line": {
              "color": "white"
             }
            },
            "header": {
             "fill": {
              "color": "#C8D4E3"
             },
             "line": {
              "color": "white"
             }
            },
            "type": "table"
           }
          ]
         },
         "layout": {
          "annotationdefaults": {
           "arrowcolor": "#2a3f5f",
           "arrowhead": 0,
           "arrowwidth": 1
          },
          "autotypenumbers": "strict",
          "coloraxis": {
           "colorbar": {
            "outlinewidth": 0,
            "ticks": ""
           }
          },
          "colorscale": {
           "diverging": [
            [
             0,
             "#8e0152"
            ],
            [
             0.1,
             "#c51b7d"
            ],
            [
             0.2,
             "#de77ae"
            ],
            [
             0.3,
             "#f1b6da"
            ],
            [
             0.4,
             "#fde0ef"
            ],
            [
             0.5,
             "#f7f7f7"
            ],
            [
             0.6,
             "#e6f5d0"
            ],
            [
             0.7,
             "#b8e186"
            ],
            [
             0.8,
             "#7fbc41"
            ],
            [
             0.9,
             "#4d9221"
            ],
            [
             1,
             "#276419"
            ]
           ],
           "sequential": [
            [
             0,
             "#0d0887"
            ],
            [
             0.1111111111111111,
             "#46039f"
            ],
            [
             0.2222222222222222,
             "#7201a8"
            ],
            [
             0.3333333333333333,
             "#9c179e"
            ],
            [
             0.4444444444444444,
             "#bd3786"
            ],
            [
             0.5555555555555556,
             "#d8576b"
            ],
            [
             0.6666666666666666,
             "#ed7953"
            ],
            [
             0.7777777777777778,
             "#fb9f3a"
            ],
            [
             0.8888888888888888,
             "#fdca26"
            ],
            [
             1,
             "#f0f921"
            ]
           ],
           "sequentialminus": [
            [
             0,
             "#0d0887"
            ],
            [
             0.1111111111111111,
             "#46039f"
            ],
            [
             0.2222222222222222,
             "#7201a8"
            ],
            [
             0.3333333333333333,
             "#9c179e"
            ],
            [
             0.4444444444444444,
             "#bd3786"
            ],
            [
             0.5555555555555556,
             "#d8576b"
            ],
            [
             0.6666666666666666,
             "#ed7953"
            ],
            [
             0.7777777777777778,
             "#fb9f3a"
            ],
            [
             0.8888888888888888,
             "#fdca26"
            ],
            [
             1,
             "#f0f921"
            ]
           ]
          },
          "colorway": [
           "#636efa",
           "#EF553B",
           "#00cc96",
           "#ab63fa",
           "#FFA15A",
           "#19d3f3",
           "#FF6692",
           "#B6E880",
           "#FF97FF",
           "#FECB52"
          ],
          "font": {
           "color": "#2a3f5f"
          },
          "geo": {
           "bgcolor": "white",
           "lakecolor": "white",
           "landcolor": "#E5ECF6",
           "showlakes": true,
           "showland": true,
           "subunitcolor": "white"
          },
          "hoverlabel": {
           "align": "left"
          },
          "hovermode": "closest",
          "mapbox": {
           "style": "light"
          },
          "paper_bgcolor": "white",
          "plot_bgcolor": "#E5ECF6",
          "polar": {
           "angularaxis": {
            "gridcolor": "white",
            "linecolor": "white",
            "ticks": ""
           },
           "bgcolor": "#E5ECF6",
           "radialaxis": {
            "gridcolor": "white",
            "linecolor": "white",
            "ticks": ""
           }
          },
          "scene": {
           "xaxis": {
            "backgroundcolor": "#E5ECF6",
            "gridcolor": "white",
            "gridwidth": 2,
            "linecolor": "white",
            "showbackground": true,
            "ticks": "",
            "zerolinecolor": "white"
           },
           "yaxis": {
            "backgroundcolor": "#E5ECF6",
            "gridcolor": "white",
            "gridwidth": 2,
            "linecolor": "white",
            "showbackground": true,
            "ticks": "",
            "zerolinecolor": "white"
           },
           "zaxis": {
            "backgroundcolor": "#E5ECF6",
            "gridcolor": "white",
            "gridwidth": 2,
            "linecolor": "white",
            "showbackground": true,
            "ticks": "",
            "zerolinecolor": "white"
           }
          },
          "shapedefaults": {
           "line": {
            "color": "#2a3f5f"
           }
          },
          "ternary": {
           "aaxis": {
            "gridcolor": "white",
            "linecolor": "white",
            "ticks": ""
           },
           "baxis": {
            "gridcolor": "white",
            "linecolor": "white",
            "ticks": ""
           },
           "bgcolor": "#E5ECF6",
           "caxis": {
            "gridcolor": "white",
            "linecolor": "white",
            "ticks": ""
           }
          },
          "title": {
           "x": 0.05
          },
          "xaxis": {
           "automargin": true,
           "gridcolor": "white",
           "linecolor": "white",
           "ticks": "",
           "title": {
            "standoff": 15
           },
           "zerolinecolor": "white",
           "zerolinewidth": 2
          },
          "yaxis": {
           "automargin": true,
           "gridcolor": "white",
           "linecolor": "white",
           "ticks": "",
           "title": {
            "standoff": 15
           },
           "zerolinecolor": "white",
           "zerolinewidth": 2
          }
         }
        },
        "width": 1200
       }
      }
     },
     "metadata": {},
     "output_type": "display_data"
    }
   ],
   "source": [
    "fig_alpha_gamma = model.plot_loglikelihood(\"alpha\", \"gamma\", 0.01, 0.99, 0.01, 10.0, n = 100, colorscale = 'Inferno')\n",
    "fig_alpha_phi1 = model.plot_loglikelihood(\"alpha\", \"phi1\", 0.01, 0.99, 0.01, 10.0, n = 100, colorscale = 'Inferno')\n",
    "\n",
    "from plotly.subplots import make_subplots\n",
    "\n",
    "# 1 row, 2 columns\n",
    "fig = make_subplots(rows=1, cols=2,\n",
    "                    specs=[[{'type':'surface'}, {'type':'surface'}]])\n",
    "\n",
    "# Add traces\n",
    "for i, f in enumerate([fig_alpha_gamma, fig_alpha_phi1], start=1):\n",
    "    for trace in f.data:\n",
    "        fig.add_trace(trace, row=1, col=i)\n",
    "\n",
    "# Copy layout for each subplot\n",
    "for i, f in enumerate([fig_alpha_gamma, fig_alpha_phi1], start=1):\n",
    "    scene_name = f'scene{i}'  # scene1, scene2, ...\n",
    "    # Axis titles\n",
    "    fig.update_layout({\n",
    "        scene_name: dict(\n",
    "            xaxis_title = f.layout.scene.xaxis.title.text if f.layout.scene.xaxis.title.text else '',\n",
    "            yaxis_title = f.layout.scene.yaxis.title.text if f.layout.scene.yaxis.title.text else '',\n",
    "            zaxis_title = f.layout.scene.zaxis.title.text if f.layout.scene.zaxis.title.text else '',\n",
    "            camera = f.layout.scene.camera if 'camera' in f.layout.scene else None\n",
    "        )\n",
    "    })\n",
    "\n",
    "titles = [fig_alpha_gamma.layout.title.text, fig_alpha_phi1.layout.title.text]\n",
    "# Add subplot “titles” using annotations\n",
    "for i, title in enumerate(titles):\n",
    "    fig.add_annotation(dict(\n",
    "        x = 0.0/len(titles) + 1.8*i/len(titles),  # x position in [0,1] figure coordinates\n",
    "        y = 1.05,                              # slightly above top\n",
    "        text = title,\n",
    "        showarrow = False,\n",
    "        xref = \"paper\",\n",
    "        yref = \"paper\",\n",
    "        font = dict(size=16)\n",
    "    ))\n",
    "\n",
    "# Update layout (optional)\n",
    "fig.update_layout(height=600, width=1200)\n",
    "fig.show()"
   ]
  },
  {
   "cell_type": "code",
   "execution_count": 121,
   "id": "2a7dab89",
   "metadata": {},
   "outputs": [
    {
     "data": {
      "application/vnd.plotly.v1+json": {
       "config": {
        "plotlyServerURL": "https://plot.ly"
       },
       "data": [
        {
         "colorbar": {
          "len": 0.5,
          "title": {
           "text": ""
          },
          "x": 0.425,
          "y": 0.5
         },
         "colorscale": [
          [
           0,
           "#000004"
          ],
          [
           0.1111111111111111,
           "#1b0c41"
          ],
          [
           0.2222222222222222,
           "#4a0c6b"
          ],
          [
           0.3333333333333333,
           "#781c6d"
          ],
          [
           0.4444444444444444,
           "#a52c60"
          ],
          [
           0.5555555555555556,
           "#cf4446"
          ],
          [
           0.6666666666666666,
           "#ed6925"
          ],
          [
           0.7777777777777778,
           "#fb9b06"
          ],
          [
           0.8888888888888888,
           "#f7d13d"
          ],
          [
           1,
           "#fcffa4"
          ]
         ],
         "scene": "scene",
         "showlegend": false,
         "showscale": true,
         "type": "surface",
         "x": {
          "bdata": "CtcjPDUDozzlGvQ8SpkiPSIlSz36sHM9aR6OPVVkoj1BqrY9LfDKPRk23z0FfPM9+eADPu8DDj7lJhg+20kiPtFsLD7HjzY+vbJAPrPVSj6p+FQ+nxtfPpU+aT6LYXM+gYR9PrvTgz425Yg+sfaNPiwIkz6nGZg+IiudPp08oj4YTqc+k1+sPg5xsT6JgrY+BJS7Pn+lwD76tsU+dcjKPvDZzz5r69Q+5vzZPmEO3z7cH+Q+VzHpPtJC7j5NVPM+yGX4PkN3/T5fRAE/HM0DP9pVBj+Y3gg/VWcLPxLwDT/QeBA/jgETP0uKFT8IExg/xpsaP4QkHT9BrR8//jUiP7y+JD96Ryc/N9ApP/RYLD+y4S4/cGoxPy3zMz/qezY/qAQ5P2aNOz8jFj4/4J5AP54nQz9csEU/GTlIP9bBSj+USk0/UtNPPw9cUj/M5FQ/im1XP0j2WT8Ff1w/wgdfP4CQYT8+GWQ/+6FmP7gqaT92s2s/NDxuP/HEcD+uTXM/bNZ1PypfeD/n53o/pHB9Pw==",
          "dtype": "f4"
         },
         "y": {
          "bdata": "CtcjPE4k4z3e5lg+yh2gPiXI0z5AuQM/bo4dP5tjNz/JOFE/9w1rP5Jxgj8pXI8/wEacP1cxqT/tG7Y/hAbDPxvxzz+y29w/ScbpP9+w9j+7zQFAB0MIQFK4DkCdLRVA6aIbQDQYIkCAjShAywIvQBZ4NUBi7TtArWJCQPnXSEBETU9Aj8JVQNs3XEAmrWJAciJpQL2Xb0AIDXZAVIJ8QNB7gUB2toRAHPGHQMEri0BnZo5ADaGRQLLblEBYFphA/lCbQKOLnkBJxqFA7wClQJU7qEA6dqtA4LCuQIbrsUArJrVA0WC4QHebu0Ac1r5AwhDCQGhLxUAOhshAs8DLQFn7zkD/NdJApHDVQEqr2EDw5dtAliDfQDtb4kDhleVAh9DoQCwL7EDSRe9AeIDyQB279UDD9fhAaTD8QA9r/0DaUgFBLfACQYCNBEHTKgZBJsgHQXhlCUHLAgtBHqAMQXE9DkHE2g9BF3gRQWkVE0G8shRBD1AWQWLtF0G1ihlBCCgbQVvFHEGtYh5BAAAgQQ==",
          "dtype": "f4"
         },
         "z": {
          "bdata": "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",
          "dtype": "f4",
          "shape": "100, 100"
         }
        },
        {
         "marker": {
          "color": "red",
          "size": 10,
          "symbol": "circle"
         },
         "mode": "markers+text",
         "scene": "scene",
         "text": [
          "True maximum"
         ],
         "textposition": "top center",
         "type": "scatter3d",
         "x": [
          0.48080021142959595
         ],
         "y": [
          0.8586330413818359
         ],
         "z": [
          -0.5718472003936768
         ]
        },
        {
         "colorbar": {
          "len": 0.5,
          "title": {
           "text": ""
          },
          "x": 0.925,
          "y": 0.5
         },
         "colorscale": [
          [
           0,
           "#000004"
          ],
          [
           0.1111111111111111,
           "#1b0c41"
          ],
          [
           0.2222222222222222,
           "#4a0c6b"
          ],
          [
           0.3333333333333333,
           "#781c6d"
          ],
          [
           0.4444444444444444,
           "#a52c60"
          ],
          [
           0.5555555555555556,
           "#cf4446"
          ],
          [
           0.6666666666666666,
           "#ed6925"
          ],
          [
           0.7777777777777778,
           "#fb9b06"
          ],
          [
           0.8888888888888888,
           "#f7d13d"
          ],
          [
           1,
           "#fcffa4"
          ]
         ],
         "scene": "scene2",
         "showlegend": false,
         "showscale": true,
         "type": "surface",
         "x": {
          "bdata": "CtcjPDUDozzlGvQ8SpkiPSIlSz36sHM9aR6OPVVkoj1BqrY9LfDKPRk23z0FfPM9+eADPu8DDj7lJhg+20kiPtFsLD7HjzY+vbJAPrPVSj6p+FQ+nxtfPpU+aT6LYXM+gYR9PrvTgz425Yg+sfaNPiwIkz6nGZg+IiudPp08oj4YTqc+k1+sPg5xsT6JgrY+BJS7Pn+lwD76tsU+dcjKPvDZzz5r69Q+5vzZPmEO3z7cH+Q+VzHpPtJC7j5NVPM+yGX4PkN3/T5fRAE/HM0DP9pVBj+Y3gg/VWcLPxLwDT/QeBA/jgETP0uKFT8IExg/xpsaP4QkHT9BrR8//jUiP7y+JD96Ryc/N9ApP/RYLD+y4S4/cGoxPy3zMz/qezY/qAQ5P2aNOz8jFj4/4J5AP54nQz9csEU/GTlIP9bBSj+USk0/UtNPPw9cUj/M5FQ/im1XP0j2WT8Ff1w/wgdfP4CQYT8+GWQ/+6FmP7gqaT92s2s/NDxuP/HEcD+uTXM/bNZ1PypfeD/n53o/pHB9Pw==",
          "dtype": "f4"
         },
         "y": {
          "bdata": "CtcjPE4k4z3e5lg+yh2gPiXI0z5AuQM/bo4dP5tjNz/JOFE/9w1rP5Jxgj8pXI8/wEacP1cxqT/tG7Y/hAbDPxvxzz+y29w/ScbpP9+w9j+7zQFAB0MIQFK4DkCdLRVA6aIbQDQYIkCAjShAywIvQBZ4NUBi7TtArWJCQPnXSEBETU9Aj8JVQNs3XEAmrWJAciJpQL2Xb0AIDXZAVIJ8QNB7gUB2toRAHPGHQMEri0BnZo5ADaGRQLLblEBYFphA/lCbQKOLnkBJxqFA7wClQJU7qEA6dqtA4LCuQIbrsUArJrVA0WC4QHebu0Ac1r5AwhDCQGhLxUAOhshAs8DLQFn7zkD/NdJApHDVQEqr2EDw5dtAliDfQDtb4kDhleVAh9DoQCwL7EDSRe9AeIDyQB279UDD9fhAaTD8QA9r/0DaUgFBLfACQYCNBEHTKgZBJsgHQXhlCUHLAgtBHqAMQXE9DkHE2g9BF3gRQWkVE0G8shRBD1AWQWLtF0G1ihlBCCgbQVvFHEGtYh5BAAAgQQ==",
          "dtype": "f4"
         },
         "z": {
          "bdata": "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",
          "dtype": "f4",
          "shape": "100, 100"
         }
        },
        {
         "marker": {
          "color": "red",
          "size": 10,
          "symbol": "circle"
         },
         "mode": "markers+text",
         "scene": "scene2",
         "text": [
          "True maximum"
         ],
         "textposition": "top center",
         "type": "scatter3d",
         "x": [
          0.48080021142959595
         ],
         "y": [
          1.515296220779419
         ],
         "z": [
          -0.5718472003936768
         ]
        }
       ],
       "layout": {
        "height": 600,
        "scene": {
         "domain": {
          "x": [
           0,
           0.45
          ],
          "y": [
           0,
           1
          ]
         }
        },
        "scene2": {
         "domain": {
          "x": [
           0.55,
           1
          ],
          "y": [
           0,
           1
          ]
         }
        },
        "template": {
         "data": {
          "bar": [
           {
            "error_x": {
             "color": "#2a3f5f"
            },
            "error_y": {
             "color": "#2a3f5f"
            },
            "marker": {
             "line": {
              "color": "#E5ECF6",
              "width": 0.5
             },
             "pattern": {
              "fillmode": "overlay",
              "size": 10,
              "solidity": 0.2
             }
            },
            "type": "bar"
           }
          ],
          "barpolar": [
           {
            "marker": {
             "line": {
              "color": "#E5ECF6",
              "width": 0.5
             },
             "pattern": {
              "fillmode": "overlay",
              "size": 10,
              "solidity": 0.2
             }
            },
            "type": "barpolar"
           }
          ],
          "carpet": [
           {
            "aaxis": {
             "endlinecolor": "#2a3f5f",
             "gridcolor": "white",
             "linecolor": "white",
             "minorgridcolor": "white",
             "startlinecolor": "#2a3f5f"
            },
            "baxis": {
             "endlinecolor": "#2a3f5f",
             "gridcolor": "white",
             "linecolor": "white",
             "minorgridcolor": "white",
             "startlinecolor": "#2a3f5f"
            },
            "type": "carpet"
           }
          ],
          "choropleth": [
           {
            "colorbar": {
             "outlinewidth": 0,
             "ticks": ""
            },
            "type": "choropleth"
           }
          ],
          "contour": [
           {
            "colorbar": {
             "outlinewidth": 0,
             "ticks": ""
            },
            "colorscale": [
             [
              0,
              "#0d0887"
             ],
             [
              0.1111111111111111,
              "#46039f"
             ],
             [
              0.2222222222222222,
              "#7201a8"
             ],
             [
              0.3333333333333333,
              "#9c179e"
             ],
             [
              0.4444444444444444,
              "#bd3786"
             ],
             [
              0.5555555555555556,
              "#d8576b"
             ],
             [
              0.6666666666666666,
              "#ed7953"
             ],
             [
              0.7777777777777778,
              "#fb9f3a"
             ],
             [
              0.8888888888888888,
              "#fdca26"
             ],
             [
              1,
              "#f0f921"
             ]
            ],
            "type": "contour"
           }
          ],
          "contourcarpet": [
           {
            "colorbar": {
             "outlinewidth": 0,
             "ticks": ""
            },
            "type": "contourcarpet"
           }
          ],
          "heatmap": [
           {
            "colorbar": {
             "outlinewidth": 0,
             "ticks": ""
            },
            "colorscale": [
             [
              0,
              "#0d0887"
             ],
             [
              0.1111111111111111,
              "#46039f"
             ],
             [
              0.2222222222222222,
              "#7201a8"
             ],
             [
              0.3333333333333333,
              "#9c179e"
             ],
             [
              0.4444444444444444,
              "#bd3786"
             ],
             [
              0.5555555555555556,
              "#d8576b"
             ],
             [
              0.6666666666666666,
              "#ed7953"
             ],
             [
              0.7777777777777778,
              "#fb9f3a"
             ],
             [
              0.8888888888888888,
              "#fdca26"
             ],
             [
              1,
              "#f0f921"
             ]
            ],
            "type": "heatmap"
           }
          ],
          "histogram": [
           {
            "marker": {
             "pattern": {
              "fillmode": "overlay",
              "size": 10,
              "solidity": 0.2
             }
            },
            "type": "histogram"
           }
          ],
          "histogram2d": [
           {
            "colorbar": {
             "outlinewidth": 0,
             "ticks": ""
            },
            "colorscale": [
             [
              0,
              "#0d0887"
             ],
             [
              0.1111111111111111,
              "#46039f"
             ],
             [
              0.2222222222222222,
              "#7201a8"
             ],
             [
              0.3333333333333333,
              "#9c179e"
             ],
             [
              0.4444444444444444,
              "#bd3786"
             ],
             [
              0.5555555555555556,
              "#d8576b"
             ],
             [
              0.6666666666666666,
              "#ed7953"
             ],
             [
              0.7777777777777778,
              "#fb9f3a"
             ],
             [
              0.8888888888888888,
              "#fdca26"
             ],
             [
              1,
              "#f0f921"
             ]
            ],
            "type": "histogram2d"
           }
          ],
          "histogram2dcontour": [
           {
            "colorbar": {
             "outlinewidth": 0,
             "ticks": ""
            },
            "colorscale": [
             [
              0,
              "#0d0887"
             ],
             [
              0.1111111111111111,
              "#46039f"
             ],
             [
              0.2222222222222222,
              "#7201a8"
             ],
             [
              0.3333333333333333,
              "#9c179e"
             ],
             [
              0.4444444444444444,
              "#bd3786"
             ],
             [
              0.5555555555555556,
              "#d8576b"
             ],
             [
              0.6666666666666666,
              "#ed7953"
             ],
             [
              0.7777777777777778,
              "#fb9f3a"
             ],
             [
              0.8888888888888888,
              "#fdca26"
             ],
             [
              1,
              "#f0f921"
             ]
            ],
            "type": "histogram2dcontour"
           }
          ],
          "mesh3d": [
           {
            "colorbar": {
             "outlinewidth": 0,
             "ticks": ""
            },
            "type": "mesh3d"
           }
          ],
          "parcoords": [
           {
            "line": {
             "colorbar": {
              "outlinewidth": 0,
              "ticks": ""
             }
            },
            "type": "parcoords"
           }
          ],
          "pie": [
           {
            "automargin": true,
            "type": "pie"
           }
          ],
          "scatter": [
           {
            "fillpattern": {
             "fillmode": "overlay",
             "size": 10,
             "solidity": 0.2
            },
            "type": "scatter"
           }
          ],
          "scatter3d": [
           {
            "line": {
             "colorbar": {
              "outlinewidth": 0,
              "ticks": ""
             }
            },
            "marker": {
             "colorbar": {
              "outlinewidth": 0,
              "ticks": ""
             }
            },
            "type": "scatter3d"
           }
          ],
          "scattercarpet": [
           {
            "marker": {
             "colorbar": {
              "outlinewidth": 0,
              "ticks": ""
             }
            },
            "type": "scattercarpet"
           }
          ],
          "scattergeo": [
           {
            "marker": {
             "colorbar": {
              "outlinewidth": 0,
              "ticks": ""
             }
            },
            "type": "scattergeo"
           }
          ],
          "scattergl": [
           {
            "marker": {
             "colorbar": {
              "outlinewidth": 0,
              "ticks": ""
             }
            },
            "type": "scattergl"
           }
          ],
          "scattermap": [
           {
            "marker": {
             "colorbar": {
              "outlinewidth": 0,
              "ticks": ""
             }
            },
            "type": "scattermap"
           }
          ],
          "scattermapbox": [
           {
            "marker": {
             "colorbar": {
              "outlinewidth": 0,
              "ticks": ""
             }
            },
            "type": "scattermapbox"
           }
          ],
          "scatterpolar": [
           {
            "marker": {
             "colorbar": {
              "outlinewidth": 0,
              "ticks": ""
             }
            },
            "type": "scatterpolar"
           }
          ],
          "scatterpolargl": [
           {
            "marker": {
             "colorbar": {
              "outlinewidth": 0,
              "ticks": ""
             }
            },
            "type": "scatterpolargl"
           }
          ],
          "scatterternary": [
           {
            "marker": {
             "colorbar": {
              "outlinewidth": 0,
              "ticks": ""
             }
            },
            "type": "scatterternary"
           }
          ],
          "surface": [
           {
            "colorbar": {
             "outlinewidth": 0,
             "ticks": ""
            },
            "colorscale": [
             [
              0,
              "#0d0887"
             ],
             [
              0.1111111111111111,
              "#46039f"
             ],
             [
              0.2222222222222222,
              "#7201a8"
             ],
             [
              0.3333333333333333,
              "#9c179e"
             ],
             [
              0.4444444444444444,
              "#bd3786"
             ],
             [
              0.5555555555555556,
              "#d8576b"
             ],
             [
              0.6666666666666666,
              "#ed7953"
             ],
             [
              0.7777777777777778,
              "#fb9f3a"
             ],
             [
              0.8888888888888888,
              "#fdca26"
             ],
             [
              1,
              "#f0f921"
             ]
            ],
            "type": "surface"
           }
          ],
          "table": [
           {
            "cells": {
             "fill": {
              "color": "#EBF0F8"
             },
             "line": {
              "color": "white"
             }
            },
            "header": {
             "fill": {
              "color": "#C8D4E3"
             },
             "line": {
              "color": "white"
             }
            },
            "type": "table"
           }
          ]
         },
         "layout": {
          "annotationdefaults": {
           "arrowcolor": "#2a3f5f",
           "arrowhead": 0,
           "arrowwidth": 1
          },
          "autotypenumbers": "strict",
          "coloraxis": {
           "colorbar": {
            "outlinewidth": 0,
            "ticks": ""
           }
          },
          "colorscale": {
           "diverging": [
            [
             0,
             "#8e0152"
            ],
            [
             0.1,
             "#c51b7d"
            ],
            [
             0.2,
             "#de77ae"
            ],
            [
             0.3,
             "#f1b6da"
            ],
            [
             0.4,
             "#fde0ef"
            ],
            [
             0.5,
             "#f7f7f7"
            ],
            [
             0.6,
             "#e6f5d0"
            ],
            [
             0.7,
             "#b8e186"
            ],
            [
             0.8,
             "#7fbc41"
            ],
            [
             0.9,
             "#4d9221"
            ],
            [
             1,
             "#276419"
            ]
           ],
           "sequential": [
            [
             0,
             "#0d0887"
            ],
            [
             0.1111111111111111,
             "#46039f"
            ],
            [
             0.2222222222222222,
             "#7201a8"
            ],
            [
             0.3333333333333333,
             "#9c179e"
            ],
            [
             0.4444444444444444,
             "#bd3786"
            ],
            [
             0.5555555555555556,
             "#d8576b"
            ],
            [
             0.6666666666666666,
             "#ed7953"
            ],
            [
             0.7777777777777778,
             "#fb9f3a"
            ],
            [
             0.8888888888888888,
             "#fdca26"
            ],
            [
             1,
             "#f0f921"
            ]
           ],
           "sequentialminus": [
            [
             0,
             "#0d0887"
            ],
            [
             0.1111111111111111,
             "#46039f"
            ],
            [
             0.2222222222222222,
             "#7201a8"
            ],
            [
             0.3333333333333333,
             "#9c179e"
            ],
            [
             0.4444444444444444,
             "#bd3786"
            ],
            [
             0.5555555555555556,
             "#d8576b"
            ],
            [
             0.6666666666666666,
             "#ed7953"
            ],
            [
             0.7777777777777778,
             "#fb9f3a"
            ],
            [
             0.8888888888888888,
             "#fdca26"
            ],
            [
             1,
             "#f0f921"
            ]
           ]
          },
          "colorway": [
           "#636efa",
           "#EF553B",
           "#00cc96",
           "#ab63fa",
           "#FFA15A",
           "#19d3f3",
           "#FF6692",
           "#B6E880",
           "#FF97FF",
           "#FECB52"
          ],
          "font": {
           "color": "#2a3f5f"
          },
          "geo": {
           "bgcolor": "white",
           "lakecolor": "white",
           "landcolor": "#E5ECF6",
           "showlakes": true,
           "showland": true,
           "subunitcolor": "white"
          },
          "hoverlabel": {
           "align": "left"
          },
          "hovermode": "closest",
          "mapbox": {
           "style": "light"
          },
          "paper_bgcolor": "white",
          "plot_bgcolor": "#E5ECF6",
          "polar": {
           "angularaxis": {
            "gridcolor": "white",
            "linecolor": "white",
            "ticks": ""
           },
           "bgcolor": "#E5ECF6",
           "radialaxis": {
            "gridcolor": "white",
            "linecolor": "white",
            "ticks": ""
           }
          },
          "scene": {
           "xaxis": {
            "backgroundcolor": "#E5ECF6",
            "gridcolor": "white",
            "gridwidth": 2,
            "linecolor": "white",
            "showbackground": true,
            "ticks": "",
            "zerolinecolor": "white"
           },
           "yaxis": {
            "backgroundcolor": "#E5ECF6",
            "gridcolor": "white",
            "gridwidth": 2,
            "linecolor": "white",
            "showbackground": true,
            "ticks": "",
            "zerolinecolor": "white"
           },
           "zaxis": {
            "backgroundcolor": "#E5ECF6",
            "gridcolor": "white",
            "gridwidth": 2,
            "linecolor": "white",
            "showbackground": true,
            "ticks": "",
            "zerolinecolor": "white"
           }
          },
          "shapedefaults": {
           "line": {
            "color": "#2a3f5f"
           }
          },
          "ternary": {
           "aaxis": {
            "gridcolor": "white",
            "linecolor": "white",
            "ticks": ""
           },
           "baxis": {
            "gridcolor": "white",
            "linecolor": "white",
            "ticks": ""
           },
           "bgcolor": "#E5ECF6",
           "caxis": {
            "gridcolor": "white",
            "linecolor": "white",
            "ticks": ""
           }
          },
          "title": {
           "x": 0.05
          },
          "xaxis": {
           "automargin": true,
           "gridcolor": "white",
           "linecolor": "white",
           "ticks": "",
           "title": {
            "standoff": 15
           },
           "zerolinecolor": "white",
           "zerolinewidth": 2
          },
          "yaxis": {
           "automargin": true,
           "gridcolor": "white",
           "linecolor": "white",
           "ticks": "",
           "title": {
            "standoff": 15
           },
           "zerolinecolor": "white",
           "zerolinewidth": 2
          }
         }
        },
        "width": 1200
       }
      }
     },
     "metadata": {},
     "output_type": "display_data"
    }
   ],
   "source": [
    "from plotly.subplots import make_subplots\n",
    "\n",
    "# 1 row, 2 columns\n",
    "fig = make_subplots(rows=1, cols=2,\n",
    "                    specs=[[{'type':'surface'}, {'type':'surface'}]])\n",
    "\n",
    "# Add traces with separate colorbars\n",
    "for i, f in enumerate([fig_alpha_gamma, fig_alpha_phi1], start=1):\n",
    "    for trace in f.data:\n",
    "        # Ensure it's a surface trace before modifying colorbar\n",
    "        if isinstance(trace, go.Surface):\n",
    "            trace.update(\n",
    "                showscale=True,\n",
    "                colorbar=dict(\n",
    "                    x = -0.15/len(titles) + 1*i/len(titles),  # shift colorbar horizontally\n",
    "                    y = 0.5,\n",
    "                    len = 0.5,\n",
    "                    title = \"\"  # you can customize\n",
    "                )\n",
    "            )\n",
    "        fig.add_trace(trace, row=1, col=i)\n",
    "\n",
    "# Copy layout for each subplot\n",
    "# for i, f in enumerate([fig_alpha_gamma, fig_alpha_phi1], start=1):\n",
    "#     scene_name = f'scene{i}'\n",
    "#     fig.update_layout({\n",
    "#         scene_name: dict(\n",
    "#             xaxis_title = f.layout.scene.xaxis.title.text if f.layout.scene.xaxis.title.text else '',\n",
    "#             yaxis_title = f.layout.scene.yaxis.title.text if f.layout.scene.yaxis.title.text else '',\n",
    "#             zaxis_title = f.layout.scene.zaxis.title.text if f.layout.scene.zaxis.title.text else '',\n",
    "#             camera = f.layout.scene.camera if 'camera' in f.layout.scene else None\n",
    "#         )\n",
    "#     })\n",
    "\n",
    "# Add subplot titles\n",
    "# titles = [fig_alpha_gamma.layout.title.text, fig_alpha_phi1.layout.title.text]\n",
    "# for i, title in enumerate(titles):\n",
    "#     fig.add_annotation(dict(\n",
    "#         x = (i + 0.5)/len(titles),\n",
    "#         y = 1.05,\n",
    "#         text = title,\n",
    "#         showarrow = False,\n",
    "#         xref = \"paper\",\n",
    "#         yref = \"paper\",\n",
    "#         font = dict(size=16)\n",
    "#     ))\n",
    "\n",
    "fig.update_layout(height=600, width=1200)\n",
    "fig.show()\n"
   ]
  },
  {
   "cell_type": "markdown",
   "id": "583beecc",
   "metadata": {},
   "source": [
    "### aaa"
   ]
  },
  {
   "cell_type": "code",
   "execution_count": 158,
   "id": "41549c7a",
   "metadata": {},
   "outputs": [
    {
     "data": {
      "text/plain": [
       "<tf.Tensor: shape=(), dtype=float32, numpy=-0.2289460450410843>"
      ]
     },
     "execution_count": 158,
     "metadata": {},
     "output_type": "execute_result"
    }
   ],
   "source": [
    "nn_output = model(x_train, training = True)\n",
    "nn_output\n",
    "tf.math.reduce_mean(nn_output, axis = [0,1])"
   ]
  },
  {
   "cell_type": "code",
   "execution_count": null,
   "id": "27ee3051",
   "metadata": {},
   "outputs": [],
   "source": []
  },
  {
   "cell_type": "code",
   "execution_count": 31,
   "id": "ef1480de",
   "metadata": {},
   "outputs": [
    {
     "data": {
      "text/plain": [
       "(5000, 2)"
      ]
     },
     "execution_count": 31,
     "metadata": {},
     "output_type": "execute_result"
    }
   ],
   "source": [
    "x_train.shape"
   ]
  },
  {
   "cell_type": "code",
   "execution_count": 11,
   "id": "3914b4cb",
   "metadata": {},
   "outputs": [
    {
     "ename": "NameError",
     "evalue": "name 'loglik_alpha_gamma' is not defined",
     "output_type": "error",
     "traceback": [
      "\u001b[0;31m---------------------------------------------------------------------------\u001b[0m",
      "\u001b[0;31mNameError\u001b[0m                                 Traceback (most recent call last)",
      "Cell \u001b[0;32mIn[11], line 11\u001b[0m\n\u001b[1;32m      8\u001b[0m t \u001b[38;5;241m=\u001b[39m df[\u001b[38;5;124m\"\u001b[39m\u001b[38;5;124my\u001b[39m\u001b[38;5;124m\"\u001b[39m]\u001b[38;5;241m.\u001b[39mto_numpy()\n\u001b[1;32m      9\u001b[0m delta \u001b[38;5;241m=\u001b[39m df[\u001b[38;5;124m\"\u001b[39m\u001b[38;5;124mdelta\u001b[39m\u001b[38;5;124m\"\u001b[39m]\u001b[38;5;241m.\u001b[39mto_numpy()\n\u001b[0;32m---> 11\u001b[0m loglik_alphas_gammas \u001b[38;5;241m=\u001b[39m \u001b[43mloglik_alpha_gamma\u001b[49m(alphas[:, \u001b[38;5;28;01mNone\u001b[39;00m, \u001b[38;5;28;01mNone\u001b[39;00m], gammas[\u001b[38;5;28;01mNone\u001b[39;00m, :, \u001b[38;5;28;01mNone\u001b[39;00m], model\u001b[38;5;241m.\u001b[39mget_variable(\u001b[38;5;124m\"\u001b[39m\u001b[38;5;124mphi1\u001b[39m\u001b[38;5;124m\"\u001b[39m), model\u001b[38;5;241m.\u001b[39mget_variable(\u001b[38;5;124m\"\u001b[39m\u001b[38;5;124mphi2\u001b[39m\u001b[38;5;124m\"\u001b[39m),\n\u001b[1;32m     12\u001b[0m                                           x1[\u001b[38;5;28;01mNone\u001b[39;00m, \u001b[38;5;28;01mNone\u001b[39;00m, :], x2[\u001b[38;5;28;01mNone\u001b[39;00m, \u001b[38;5;28;01mNone\u001b[39;00m, :], theta_function2, t[\u001b[38;5;28;01mNone\u001b[39;00m, \u001b[38;5;28;01mNone\u001b[39;00m, :], delta[\u001b[38;5;28;01mNone\u001b[39;00m, \u001b[38;5;28;01mNone\u001b[39;00m, :])\n\u001b[1;32m     13\u001b[0m loglik_alphas_gammas\u001b[38;5;241m.\u001b[39mshape\n\u001b[1;32m     15\u001b[0m fig \u001b[38;5;241m=\u001b[39m go\u001b[38;5;241m.\u001b[39mFigure(data\u001b[38;5;241m=\u001b[39m[go\u001b[38;5;241m.\u001b[39mSurface(\n\u001b[1;32m     16\u001b[0m     x\u001b[38;5;241m=\u001b[39malphas,\n\u001b[1;32m     17\u001b[0m     y\u001b[38;5;241m=\u001b[39mgammas,\n\u001b[1;32m     18\u001b[0m     z\u001b[38;5;241m=\u001b[39mloglik_alphas_gammas\u001b[38;5;241m.\u001b[39mT,\n\u001b[1;32m     19\u001b[0m     colorscale\u001b[38;5;241m=\u001b[39m\u001b[38;5;124m'\u001b[39m\u001b[38;5;124mViridis\u001b[39m\u001b[38;5;124m'\u001b[39m   \u001b[38;5;66;03m# change colormap here\u001b[39;00m\n\u001b[1;32m     20\u001b[0m )])\n",
      "\u001b[0;31mNameError\u001b[0m: name 'loglik_alpha_gamma' is not defined"
     ]
    }
   ],
   "source": [
    "df = df.loc[df[\"set\"] == \"train\", :]\n",
    "\n",
    "# Define the variable values and their respective dimensions of variation\n",
    "alphas = np.linspace(0.01, 0.99, 100)\n",
    "gammas = np.linspace(0.01, 50, 100)\n",
    "x1 = df[\"x1\"].to_numpy()\n",
    "x2 = df[\"x2\"].to_numpy()\n",
    "t = df[\"y\"].to_numpy()\n",
    "delta = df[\"delta\"].to_numpy()\n",
    "\n",
    "loglik_alphas_gammas = loglik_alpha_gamma(alphas[:, None, None], gammas[None, :, None], model.get_variable(\"phi1\"), model.get_variable(\"phi2\"),\n",
    "                                          x1[None, None, :], x2[None, None, :], theta_function2, t[None, None, :], delta[None, None, :])\n",
    "loglik_alphas_gammas.shape\n",
    "\n",
    "fig = go.Figure(data=[go.Surface(\n",
    "    x=alphas,\n",
    "    y=gammas,\n",
    "    z=loglik_alphas_gammas.T,\n",
    "    colorscale='Viridis'   # change colormap here\n",
    ")])"
   ]
  },
  {
   "cell_type": "code",
   "execution_count": null,
   "id": "283ddb14",
   "metadata": {},
   "outputs": [],
   "source": []
  },
  {
   "cell_type": "code",
   "execution_count": null,
   "id": "71978d59",
   "metadata": {},
   "outputs": [
    {
     "name": "stdout",
     "output_type": "stream",
     "text": [
      "Proportion of censoring: 0.5823529411764705\n",
      "Proportion of cured: 0.49607843137254903\n"
     ]
    }
   ],
   "source": []
  },
  {
   "cell_type": "code",
   "execution_count": 9,
   "id": "2bf1c592",
   "metadata": {},
   "outputs": [
    {
     "data": {
      "image/png": "[encoded data removed]",
      "text/plain": [
       "<Figure size 640x480 with 2 Axes>"
      ]
     },
     "metadata": {},
     "output_type": "display_data"
    }
   ],
   "source": [
    "theta_x1_x2 = [theta_function2(df[\"x1\"][i], df[\"x2\"][i]) for i in range(len(df[\"x2\"]))]\n",
    "plt.scatter(df[\"x1\"], df[\"x2\"], c=theta_x1_x2, cmap='jet')  # 'c' sets the colors, 'cmap' is the colormap\n",
    "plt.colorbar(label='Z values')\n",
    "plt.show()"
   ]
  },
  {
   "cell_type": "code",
   "execution_count": 34,
   "id": "da042c5f",
   "metadata": {},
   "outputs": [
    {
     "data": {
      "application/vnd.jupyter.widget-view+json": {
       "model_id": "396105d4950a48cf99c63aa2821b59af",
       "version_major": 2,
       "version_minor": 0
      },
      "text/plain": [
       "0epoch [00:00, ?epoch/s]"
      ]
     },
     "metadata": {},
     "output_type": "display_data"
    },
    {
     "name": "stdout",
     "output_type": "stream",
     "text": [
      "alpha: 0.6294541954994202\n",
      "gamma: 0.5758070945739746\n",
      "phi1: 1.9590696096420288\n",
      "phi2: 0.7919819355010986\n"
     ]
    }
   ],
   "source": [
    "x_train = np.concatenate([x1_train[:,None], x2_train[:,None]], axis = 1)\n",
    "model = FrailtyModelNN(pvf_parameters, pvf_loglikelihood_loss, pvf_neural_network, pvf_neural_network_call, input_dim = (None, 2), seed = 10)\n",
    "\n",
    "model.train_model(x_train, t_train, delta_train,\n",
    "                  epochs = 2500, shuffle = True,\n",
    "                  validation = False, val_prop = 0.2,\n",
    "                  optimizer_independent_pars = optimizers.Adam(learning_rate = 0.01),\n",
    "                  optimizer_nn = optimizers.AdamW(learning_rate = 0.1),\n",
    "                  train_batch_size = None, val_batch_size = None,\n",
    "                  buffer_size = 4096, gradient_accumulation_steps = None,\n",
    "                  early_stopping = True, early_stopping_min_delta = 0.0, early_stopping_patience = 10, early_stopping_warmup = 100,\n",
    "                  run_eagerly = False, verbose = 1)\n",
    "\n",
    "print(\"alpha: {}\".format( model.get_variable(\"alpha\") ))\n",
    "print(\"gamma: {}\".format( model.get_variable(\"gamma\") ))\n",
    "print(\"phi1: {}\".format( model.get_variable(\"phi1\") ))\n",
    "print(\"phi2: {}\".format( model.get_variable(\"phi2\") ))"
   ]
  },
  {
   "cell_type": "code",
   "execution_count": 35,
   "id": "fa1d0ef2",
   "metadata": {},
   "outputs": [
    {
     "data": {
      "text/plain": [
       "<FrailtyModelNN name=frailty_model_nn_8, built=True>"
      ]
     },
     "execution_count": 35,
     "metadata": {},
     "output_type": "execute_result"
    }
   ],
   "source": [
    "model.copy()"
   ]
  },
  {
   "cell_type": "code",
   "execution_count": 22,
   "id": "341a09e2",
   "metadata": {},
   "outputs": [
    {
     "data": {
      "image/png": "[encoded data removed]",
      "text/plain": [
       "<Figure size 2000x800 with 6 Axes>"
      ]
     },
     "metadata": {},
     "output_type": "display_data"
    }
   ],
   "source": [
    "fig, ax = plt.subplots(nrows = 1, ncols = 3, figsize = (20, 8))\n",
    "\n",
    "xs1, xs2 = np.meshgrid( np.linspace(-1, 1, 100), np.linspace(-1, 1, 100) )\n",
    "theta_xs1_xs2 = theta_function2(xs1, xs2)\n",
    "vmin = 0.0\n",
    "vmax = np.max(theta_xs1_xs2)\n",
    "\n",
    "mesh1 = ax[0].pcolormesh(xs1, xs2, theta_xs1_xs2, cmap = \"jet\", vmin = vmin, vmax = vmax)\n",
    "ax[0].set_title(r\"$\\theta(x)$\")\n",
    "ax[0].set_xlabel(r\"$x_1$\", fontsize = 12)\n",
    "ax[0].set_ylabel(r\"$x_2$\", fontsize = 12)\n",
    "fig.colorbar(mesh1, ax=ax[0], orientation='vertical', fraction=0.046, pad=0.04)\n",
    "\n",
    "xs1_all = xs1.flatten()\n",
    "xs2_all = xs2.flatten()\n",
    "theta_pred = np.exp(model.predict( np.concatenate([xs1_all[:,None], xs2_all[:,None]], axis = 1), verbose = 0 ))\n",
    "theta_pred = theta_pred.reshape(xs1.shape)\n",
    "\n",
    "mesh2 = ax[1].pcolormesh(xs1, xs2, theta_pred, cmap = \"jet\", vmin = vmin, vmax = vmax)\n",
    "ax[1].set_title(r\"$\\widehat{\\theta}(x)$\")\n",
    "ax[1].set_xlabel(r\"$x_1$\", fontsize = 12)\n",
    "ax[1].set_ylabel(r\"$x_2$\", fontsize = 12)\n",
    "fig.colorbar(mesh2, ax=ax[1], orientation='vertical', fraction=0.046, pad=0.04)\n",
    "\n",
    "mesh3 = ax[2].pcolormesh(xs1, xs2, (theta_pred - theta_xs1_xs2)**2, cmap = \"jet\", vmin = vmin, vmax = vmax)\n",
    "ax[2].set_title(r\"[$\\theta(x) - \\widehat{\\theta}(x)]^2$\")\n",
    "ax[2].set_xlabel(r\"$x_1$\", fontsize = 12)\n",
    "ax[2].set_ylabel(r\"$x_2$\", fontsize = 12)\n",
    "fig.colorbar(mesh3, ax=ax[2], orientation='vertical', fraction=0.046, pad=0.04)\n",
    "\n",
    "plt.show()"
   ]
  }
 ],
 "metadata": {
  "kernelspec": {
   "display_name": "Python (pyenv 3.10.17)",
   "language": "python",
   "name": "pyenv-3.10.17"
  },
  "language_info": {
   "codemirror_mode": {
    "name": "ipython",
    "version": 3
   },
   "file_extension": ".py",
   "mimetype": "text/x-python",
   "name": "python",
   "nbconvert_exporter": "python",
   "pygments_lexer": "ipython3",
   "version": "3.10.17"
  }
 },
 "nbformat": 4,
 "nbformat_minor": 5
}
