{
 "cells": [
  {
   "cell_type": "code",
   "execution_count": 1,
   "id": "46db91d7-79de-4e41-a412-da62404929d7",
   "metadata": {},
   "outputs": [
    {
     "name": "stderr",
     "output_type": "stream",
     "text": [
      "2025-10-16 15:39:48.246095: E external/local_xla/xla/stream_executor/cuda/cuda_fft.cc:467] Unable to register cuFFT factory: Attempting to register factory for plugin cuFFT when one has already been registered\n",
      "WARNING: All log messages before absl::InitializeLog() is called are written to STDERR\n",
      "E0000 00:00:1760639988.263783  109426 cuda_dnn.cc:8579] Unable to register cuDNN factory: Attempting to register factory for plugin cuDNN when one has already been registered\n",
      "E0000 00:00:1760639988.269161  109426 cuda_blas.cc:1407] Unable to register cuBLAS factory: Attempting to register factory for plugin cuBLAS when one has already been registered\n",
      "W0000 00:00:1760639988.283900  109426 computation_placer.cc:177] computation placer already registered. Please check linkage and avoid linking the same target more than once.\n",
      "W0000 00:00:1760639988.283925  109426 computation_placer.cc:177] computation placer already registered. Please check linkage and avoid linking the same target more than once.\n",
      "W0000 00:00:1760639988.283928  109426 computation_placer.cc:177] computation placer already registered. Please check linkage and avoid linking the same target more than once.\n",
      "W0000 00:00:1760639988.283931  109426 computation_placer.cc:177] computation placer already registered. Please check linkage and avoid linking the same target more than once.\n",
      "2025-10-16 15:39:48.288490: I tensorflow/core/platform/cpu_feature_guard.cc:210] This TensorFlow binary is optimized to use available CPU instructions in performance-critical operations.\n",
      "To enable the following instructions: AVX2 FMA, in other operations, rebuild TensorFlow with the appropriate compiler flags.\n",
      "2025-10-16 15:39:50.981377: E external/local_xla/xla/stream_executor/cuda/cuda_platform.cc:51] failed call to cuInit: INTERNAL: CUDA error: Failed call to cuInit: CUDA_ERROR_NO_DEVICE: no CUDA-capable device is detected\n",
      "2025-10-16 15:39:50.981400: I external/local_xla/xla/stream_executor/cuda/cuda_diagnostics.cc:167] env: CUDA_VISIBLE_DEVICES=\"-1\"\n",
      "2025-10-16 15:39:50.981407: I external/local_xla/xla/stream_executor/cuda/cuda_diagnostics.cc:170] CUDA_VISIBLE_DEVICES is set to -1 - this hides all GPUs from CUDA\n",
      "2025-10-16 15:39:50.981411: I external/local_xla/xla/stream_executor/cuda/cuda_diagnostics.cc:178] verbose logging is disabled. Rerun with verbose logging (usually --v=1 or --vmodule=cuda_diagnostics=1) to get more diagnostic output from this module\n",
      "2025-10-16 15:39:50.981418: I external/local_xla/xla/stream_executor/cuda/cuda_diagnostics.cc:183] retrieving CUDA diagnostic information for host: forlorn-muskeg\n",
      "2025-10-16 15:39:50.981422: I external/local_xla/xla/stream_executor/cuda/cuda_diagnostics.cc:190] hostname: forlorn-muskeg\n",
      "2025-10-16 15:39:50.981561: I external/local_xla/xla/stream_executor/cuda/cuda_diagnostics.cc:197] libcuda reported version is: 535.261.3\n",
      "2025-10-16 15:39:50.981580: I external/local_xla/xla/stream_executor/cuda/cuda_diagnostics.cc:201] kernel reported version is: 535.261.3\n",
      "2025-10-16 15:39:50.981583: I external/local_xla/xla/stream_executor/cuda/cuda_diagnostics.cc:291] kernel version seems to match DSO: 535.261.3\n"
     ]
    }
   ],
   "source": [
    "import numpy as np\n",
    "\n",
    "import os\n",
    "from IPython.display import Image\n",
    "os.environ[\"CUDA_VISIBLE_DEVICES\"] = \"-1\"\n",
    "\n",
    "import copy\n",
    "\n",
    "from matplotlib import pyplot as plt\n",
    "import seaborn as sns\n",
    "import plotly.graph_objects as go\n",
    "from plotly.subplots import make_subplots\n",
    "import lifelines\n",
    "\n",
    "import tensorflow as tf\n",
    "from tensorflow import keras\n",
    "import tensorflow_probability as tfp\n",
    "from keras import layers, initializers, optimizers, losses\n",
    "\n",
    "from tensorflow.keras.callbacks import Callback\n",
    "from tqdm.keras import TqdmCallback\n",
    "from tqdm import tqdm\n",
    "\n",
    "config = tf.compat.v1.ConfigProto()\n",
    "config.gpu_options.allow_growth = True\n",
    "sess = tf.compat.v1.Session(config = config)"
   ]
  },
  {
   "cell_type": "code",
   "execution_count": 2,
   "id": "f70b7fa4-713d-4311-8de7-e7ab4700aea3",
   "metadata": {},
   "outputs": [],
   "source": [
    "import weibull\n",
    "import frailty_model_nn as fnn"
   ]
  },
  {
   "cell_type": "markdown",
   "id": "5c04b607-9d52-4d01-9c01-abb7d4a0c6d6",
   "metadata": {},
   "source": [
    "Now that we have implemented a structure for training frailty survival models with neural networks components easily and with some basic functions at our disposal, let us define the discrete frailty model where\n",
    "\\begin{equation}\n",
    "    Z \\sim \\text{Poisson}(W \\theta); \\ \\ \\ \\ W \\sim \\text{Inverse-Gaussian}()\n",
    "\\end{equation}"
   ]
  },
  {
   "cell_type": "code",
   "execution_count": null,
   "id": "2c944c60-7715-4e9e-acd3-c794aa70ad8c",
   "metadata": {},
   "outputs": [],
   "source": [
    "pvf_parameters = {\n",
    "    \"theta\": {\"link\": lambda x : tf.math.exp(x), \"link_inv\": lambda x : tf.math.log(x), \"par_type\": \"nn\", \"update_func\": None, \"shape\": None, \"initializer\": None},\n",
    "    # \"tau\": {\"link\": lambda x : tf.math.exp(x), \"link_inv\": lambda x : tf.math.log(x), \"par_type\": \"nn\", \"update_func\": None, \"shape\": 5, \"initializer\": None},\n",
    "    \"alpha\": {\"link\": lambda x : 1/(1+tf.math.exp(-x)), \"link_inv\": lambda x : tf.math.log(x) - tf.math.log(1-x), \"par_type\": \"independent\", \"update_func\": None, \"shape\": None, \"init\": 0.5},\n",
    "    \"gamma\": {\"link\": lambda x : tf.math.exp(x), \"link_inv\": lambda x : tf.math.log(x), \"par_type\": \"independent\", \"update_func\": None, \"shape\": None, \"init\": 1.0},\n",
    "    \"phi1\": {\"link\": lambda x : tf.math.exp(x), \"link_inv\": lambda x : tf.math.log(x), \"par_type\": \"independent\", \"update_func\": None, \"shape\": None, \"init\": 1.0},\n",
    "    \"phi2\": {\"link\": lambda x : tf.identity(x), \"link_inv\": lambda x : tf.identity(x), \"par_type\": \"independent\", \"update_func\": None, \"shape\": None, \"init\": 0.0}\n",
    "}\n",
    "\n",
    "def pvf_loglikelihood_loss(model, nn_output, t, delta):\n",
    "        \"\"\"\n",
    "            This is an example of a correctly defined loss function.\n",
    "        \"\"\"\n",
    "        theta = model.get_variable(\"theta\", nn_output)\n",
    "\n",
    "        alpha = model.get_variable(\"alpha\")\n",
    "        gamma = model.get_variable(\"gamma\")\n",
    "        phi1 = model.get_variable(\"phi1\")\n",
    "        phi2 = model.get_variable(\"phi2\")\n",
    "\n",
    "        log_f0 = tf.math.log(phi1) + (phi1-1)*tf.math.log(t) + phi2 - tf.math.exp(phi2) * tf.math.pow(t, phi1)\n",
    "        F0 = 1 - tf.math.exp(-tf.math.pow(t, phi1) * tf.math.exp(phi2))\n",
    "\n",
    "        laplace_transform_term = 1 + gamma*theta*F0/(1-alpha)\n",
    "\n",
    "        loss_weights = delta*tf.math.log(theta) + delta*log_f0 + (1-alpha)/(alpha*gamma)*(1 - tf.math.pow(laplace_transform_term, alpha)) + (alpha-1)*delta*tf.math.log(laplace_transform_term)\n",
    "\n",
    "        # It is very important to specify axis = [0,1] in this case, since the output shape for this function might be an array if we pass multiple parameters to it\n",
    "        # That happens, for example, in the method plot_loglikelihood, that builds pairwise 3d surface plots for the log-likelihood automatically\n",
    "        # The mean should always be taken in axis 0 and 1. The first relates to the data indices directly, while the second relates to the output dimension\n",
    "        # of the neural network layers. The second dimension should always be equal to one. That means that even if we have vector parameter outputs from\n",
    "        # the neural network component, the loglikelihood loss must return a single numeric value with shape () during training\n",
    "        loss_weights_mean = -tf.math.reduce_mean(loss_weights, axis = [0,1])\n",
    "        \n",
    "        return loss_weights_mean\n",
    "\n",
    "def pvf_neural_network(model, seed = None):\n",
    "    \"\"\" \n",
    "        This is an example of a correctly defined neural network structure definition function.\n",
    "    \"\"\"\n",
    "    initializer = initializers.GlorotNormal(seed = seed)\n",
    "    model.dense1 = keras.layers.Dense(units = 16, activation = \"gelu\", kernel_initializer = initializer, dtype = tf.float32, name = \"dense1\")\n",
    "    model.dense2 = keras.layers.Dense(units = 1, kernel_initializer = initializer, dtype = tf.float32, activation = None, use_bias = False, name = \"output\")\n",
    "\n",
    "def pvf_neural_network_call(model, x_input):\n",
    "    \"\"\"\n",
    "        This is an example of a correctly defined neural netowork call function. Its elements such as dense1 and dense2 must have been defined in neural_network_structure.\n",
    "        Otherwise, it will result in an error\n",
    "    \"\"\"\n",
    "    x = model.dense1(x_input)\n",
    "    x = model.dense2(x)\n",
    "    return x"
   ]
  },
  {
   "cell_type": "code",
   "execution_count": null,
   "id": "3fcc8cf1-2344-4119-ad35-81f4a3fe61a4",
   "metadata": {},
   "outputs": [],
   "source": [
    "fnn.FrailtyModelNN()"
   ]
  }
 ],
 "metadata": {
  "kernelspec": {
   "display_name": "Python 3 (ipykernel)",
   "language": "python",
   "name": "python3"
  },
  "language_info": {
   "codemirror_mode": {
    "name": "ipython",
    "version": 3
   },
   "file_extension": ".py",
   "mimetype": "text/x-python",
   "name": "python",
   "nbconvert_exporter": "python",
   "pygments_lexer": "ipython3",
   "version": "3.10.17"
  }
 },
 "nbformat": 4,
 "nbformat_minor": 5
}
